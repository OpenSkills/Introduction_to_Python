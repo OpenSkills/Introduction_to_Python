{
 "cells": [
  {
   "cell_type": "markdown",
   "id": "governmental-independence",
   "metadata": {},
   "source": [
    "# Python - Lesson 1"
   ]
  },
  {
   "cell_type": "markdown",
   "id": "imperial-house",
   "metadata": {},
   "source": [
    "Python is a widely used programming language that continues to become more and more popular. Python is used for different roles, from Web Development to Machine Learning.\n",
    "\n",
    "ไพธอนเป็นภาษาโปรแกรมที่ใช้กันอย่างแพร่หลายและยิ่งมีความนิยมมากขึ้นเรื่อย ๆ ไพธอนถูกใช้ในบทบาทต่าง ๆ ตั้งแต่การพัฒนาเว็บไซต์จนถึง Machine Learning (การเรียนรู้ของเครื่อง)\n",
    "\n",
    "Excited about the opportunities that come with coding in Python? Let's learn it together!\n",
    "\n",
    "\n",
    "ตื่นเต้นกับโอกาสที่มีมาพร้อมกับการเขียนโค้ดด้วย Python หรือเปล่า? เรามาเรียนรู้ด้วยกัน!\n",
    "\n",
    "<table><tr>\n",
    "<td> <img src=\"lesson_materials/programming_languages.png\" style=\"width: 400px;\"/> </td>\n",
    "<td> <img src=\"lesson_materials/roles_with_python.png\" style=\"width: 600\"/> </td>\n",
    "</tr></table>"
   ]
  },
  {
   "cell_type": "markdown",
   "id": "suffering-ordinary",
   "metadata": {},
   "source": [
    "### Jupyter Notebook : Quick intro"
   ]
  },
  {
   "cell_type": "markdown",
   "id": "funny-sense",
   "metadata": {},
   "source": [
    "We write code or text in a \"cell\" - the square highlighted box as you see if you click on this text now. To showcase what we did in this box, we need to click \"shift\" + \"enter\" and you'll see the \"cell\" being executed - our text is shown or our code is run\", let's see how it works with code first and learn some Python!\n",
    "\n",
    "\n",
    "เราเขียนโค้ดหรือข้อความใน \"เซลล์\" - กล่องสี่เหลี่ยมที่เน้นไว้เหมือนที่คุณเห็นเมื่อคลิกที่ข้อความนี้ตอนนี้ ในการนำเสนอสิ่งที่เราทำในกล่องนี้ เราต้องคลิก \"shift\" + \"enter\" แล้วคุณจะเห็น \"เซลล์\" ที่ถูกดำเนินการ - ข้อความของเราแสดงหรือโค้ดของเราถูกรันไป, มาดูว่ามันทำงานยังไงกับโค้ดก่อนและเรียนรู้ Python บางส่วน!"
   ]
  },
  {
   "cell_type": "code",
   "execution_count": 2,
   "id": "outdoor-knife",
   "metadata": {},
   "outputs": [
    {
     "name": "stdout",
     "output_type": "stream",
     "text": [
      "Good afternoon!\n"
     ]
    }
   ],
   "source": [
    "print(\"Good afternoon!\")"
   ]
  },
  {
   "cell_type": "markdown",
   "id": "selected-stopping",
   "metadata": {},
   "source": [
    "## *Print function*\n",
    "In the code above, we used a `print` function, `print()`. Try out the function without any arguments and you'll see it executes too! If you want it to print anything, you need to write that as an argument in the parentheses.\n",
    "\n",
    "\n",
    "ในโค้ดด้านบนเราใช้ฟังก์ชัน print หรือ print() ลองใช้ฟังก์ชันโดยไม่มีอาร์กิวเมนต์ใด ๆ แล้วคุณจะเห็นว่ามันทำงานได้เช่นกัน! ถ้าคุณต้องการให้มันพิมพ์บางอย่างคุณต้องเขียนให้เป็นอาร์กิวเมนต์ในวงเล็บนี้."
   ]
  },
  {
   "cell_type": "code",
   "execution_count": 4,
   "id": "friendly-reggae",
   "metadata": {},
   "outputs": [
    {
     "name": "stdout",
     "output_type": "stream",
     "text": [
      "\n"
     ]
    }
   ],
   "source": [
    "print()"
   ]
  },
  {
   "cell_type": "markdown",
   "id": "detected-tiger",
   "metadata": {},
   "source": [
    "### Exercise 1.1. \n",
    "\n",
    "#### Print \"Hello, [YOUR_NAME] to the console\"\n",
    "\n",
    "\n",
    "#### พิมพ์ \"สวัสดี, [YOUR_NAME]\" ที่คอนโซล (console)"
   ]
  },
  {
   "cell_type": "markdown",
   "id": "internal-swift",
   "metadata": {},
   "source": [
    "## *Commenting*\n",
    "\n",
    "### Single-line comments (ความคิดเห็นบรรทัดเดียว)\n",
    "\n",
    "Comments are something we write in the code that the program ignores - it is just for you to document and understand code better. \n",
    "\n",
    "ความคิดเห็นคือสิ่งที่เราเขียนในโค้ดที่โปรแกรมจะละเว้น - มันเป็นเพียงสำหรับคุณที่จะเขียนเอกสารและเข้าใจโค้ดได้ดีขึ้น\n",
    "\n",
    "Single-line comments in Python code are written after the hashtag `#` symbol, like so:\n",
    "\n",
    "ความคิดเห็นบรรทัดเดียวในโค้ด Python เขียนหลังจากสัญลักษณ์ดอลลาร์ # เช่นนี้:"
   ]
  },
  {
   "cell_type": "code",
   "execution_count": 11,
   "id": "arranged-deposit",
   "metadata": {},
   "outputs": [
    {
     "name": "stdout",
     "output_type": "stream",
     "text": [
      "Hello, student!\n"
     ]
    }
   ],
   "source": [
    "# Print function is a function in Python that takes an argument and prints it to the screen. \n",
    "print(\"Hello, student!\")"
   ]
  },
  {
   "cell_type": "markdown",
   "id": "entertaining-target",
   "metadata": {},
   "source": [
    "You can see that we only executed the code that is not commented above. \n",
    "\n",
    "คุณสามารถเห็นว่าเราเพียงทำการดำเนินการโค้ดที่ไม่ได้ถูกคอมเมนท์ไว้ด้านบนเท่านั้น\n",
    "\n",
    "\n",
    "You can also write comments on the same line as your code and it will be ignored as well, see below:\n",
    "\n",
    "คุณ cũngสามารถเขียนความคิดเห็นบนบรรทัดเดียวกับโค้ดของคุณและมันจะถูกละเว้นเช่นกัน, ดูด้านล่าง:"
   ]
  },
  {
   "cell_type": "code",
   "execution_count": 12,
   "id": "prostate-damages",
   "metadata": {},
   "outputs": [
    {
     "name": "stdout",
     "output_type": "stream",
     "text": [
      "Hello, student!\n"
     ]
    }
   ],
   "source": [
    "print(\"Hello, student!\") # This is a print function"
   ]
  },
  {
   "cell_type": "markdown",
   "id": "fleet-artist",
   "metadata": {},
   "source": [
    "### Exercise 1.2.\n",
    "\n",
    "#### Copy your answer from Exercise 1.1. and add a comment explaining what it does.\n",
    "#### คัดลอกคำตอบจากข้อ 1.1 และเพิ่มความคิดเห็นอธิบายว่ามันทำอะไร"
   ]
  },
  {
   "cell_type": "markdown",
   "id": "residential-hygiene",
   "metadata": {},
   "source": [
    "### Multi-line comments (ความคิดเห็นหลายบรรทัด)"
   ]
  },
  {
   "cell_type": "markdown",
   "id": "democratic-opinion",
   "metadata": {},
   "source": [
    "#### Multi-line comments in Python are written within triple quotes, like so:\n",
    "#### ความคิดเห็นหลายบรรทัดใน Python ถูกเขียนในขอบเขตของเครื่องหมายคำพูดสามอัน, เช่นนี้"
   ]
  },
  {
   "cell_type": "code",
   "execution_count": 13,
   "id": "future-circuit",
   "metadata": {},
   "outputs": [
    {
     "name": "stdout",
     "output_type": "stream",
     "text": [
      "Hello, student\n"
     ]
    }
   ],
   "source": [
    "\"\"\"\n",
    "This is a multi-line comment.\n",
    "Print function is a function in Python that takes an argument\n",
    "and prints it to the screen.\n",
    "\"\"\"\n",
    "print(\"Hello, student\")"
   ]
  },
  {
   "cell_type": "markdown",
   "id": "nutritional-fleet",
   "metadata": {},
   "source": [
    "### Exercise 1.3.\n",
    "#### Copy your answer from Exercise 1.1. and add a multi-line comment explaining what it does.\n",
    "#### คัดลอกคำตอบจากข้อ 1.1 และเพิ่มความคิดเห็นหลายบรรทัดอธิบายว่ามันทำอะไร"
   ]
  },
  {
   "cell_type": "markdown",
   "id": "checked-melissa",
   "metadata": {},
   "source": [
    "## Variables in Python"
   ]
  },
  {
   "cell_type": "markdown",
   "id": "chemical-duncan",
   "metadata": {},
   "source": [
    "Variables store the values of our data. In Python, variables are only created when we assign value to them. \n",
    "\n",
    "ตัวแปรเก็บค่าของข้อมูลของเรา ใน Python ตัวแปรจะถูกสร้างขึ้นเมื่อเรากำหนดค่าให้กับมันเท่านั้น\n",
    "\n",
    "Value assignment is done by using `=` operator.\n",
    "\n",
    "การกำหนดค่าทำด้วยการใช้ตัวดำเนินการ `=` ใน Python"
   ]
  },
  {
   "cell_type": "code",
   "execution_count": 18,
   "id": "electronic-carrier",
   "metadata": {},
   "outputs": [],
   "source": [
    "x = 5"
   ]
  },
  {
   "cell_type": "markdown",
   "id": "human-flour",
   "metadata": {},
   "source": [
    "We can check that the value assignment worked now by using the `print` function\n",
    "\n",
    "เราสามารถตรวจสอบว่าการกำหนดค่าทำงานได้ด้วยการใช้ฟังก์ชัน print ตอนนี้"
   ]
  },
  {
   "cell_type": "code",
   "execution_count": 19,
   "id": "controlling-capability",
   "metadata": {},
   "outputs": [
    {
     "name": "stdout",
     "output_type": "stream",
     "text": [
      "5\n"
     ]
    }
   ],
   "source": [
    "print(x)"
   ]
  },
  {
   "cell_type": "markdown",
   "id": "fallen-gross",
   "metadata": {},
   "source": [
    "We don't need to declare variable types in Python and we can change them by reasigning the value. Reasignment is done the same way as when the variable was first declared, using `=` operator.\n",
    "\n",
    "ใน Python เราไม่จำเป็นต้องประกาศประเภทของตัวแปรและเราสามารถเปลี่ยนแปลงได้โดยการกำหนดค่าใหม่ การกำหนดค่าใหม่ทำได้เหมือนกับเมื่อตัวแปรถูกประกาศครั้งแรก โดยใช้ตัวดำเนินการ `=`"
   ]
  },
  {
   "cell_type": "code",
   "execution_count": 20,
   "id": "devoted-trunk",
   "metadata": {},
   "outputs": [],
   "source": [
    "x = \"Hello!\""
   ]
  },
  {
   "cell_type": "code",
   "execution_count": 21,
   "id": "occupational-twenty",
   "metadata": {},
   "outputs": [
    {
     "name": "stdout",
     "output_type": "stream",
     "text": [
      "Hello!\n"
     ]
    }
   ],
   "source": [
    "print(x)"
   ]
  },
  {
   "cell_type": "markdown",
   "id": "grave-albuquerque",
   "metadata": {},
   "source": [
    "Python is case-sensitive, so be careful when reassigning variables!\n",
    "\n",
    "ไพธอนเป็นภาษาที่ระบุตามตัวอักษรใหญ่-เล็ก (case-sensitive) ดังนั้น, กรุณาระมัดระวังเมื่อกำหนดค่าใหม่ให้ตัวแปร!"
   ]
  },
  {
   "cell_type": "code",
   "execution_count": 26,
   "id": "interstate-buyer",
   "metadata": {},
   "outputs": [],
   "source": [
    "X = 5"
   ]
  },
  {
   "cell_type": "code",
   "execution_count": 32,
   "id": "abandoned-expert",
   "metadata": {},
   "outputs": [
    {
     "name": "stdout",
     "output_type": "stream",
     "text": [
      "5 Hello!\n"
     ]
    }
   ],
   "source": [
    "print(X, x)"
   ]
  },
  {
   "cell_type": "markdown",
   "id": "established-doctor",
   "metadata": {},
   "source": [
    "Like in many other programming languages, variables in Python should __not__:\n",
    "1) start with numbers \\\n",
    "2) have any whitespace \\\n",
    "3) include dashes (-)\n",
    "\n",
    "If these rules are not respected, you will see `SyntaxError`\n",
    "\n",
    "\n",
    "เหมือนในภาษาโปรแกรมอื่น ๆ, ตัวแปรในไพธอน __ไม่ควร__:\n",
    "1) เริ่มต้นด้วยตัวเลข \\\n",
    "2) มีช่องว่าง \\\n",
    "3) รวมถึงเครื่องหมาย dash (-)\n",
    "\n",
    "หากไม่ปฏิบัติตามกฎเหล่านี้, คุณจะพบ `SyntaxError`"
   ]
  },
  {
   "cell_type": "code",
   "execution_count": 22,
   "id": "intensive-digest",
   "metadata": {},
   "outputs": [
    {
     "ename": "SyntaxError",
     "evalue": "invalid syntax (<ipython-input-22-96d7dfb88103>, line 1)",
     "output_type": "error",
     "traceback": [
      "\u001b[0;36m  File \u001b[0;32m\"<ipython-input-22-96d7dfb88103>\"\u001b[0;36m, line \u001b[0;32m1\u001b[0m\n\u001b[0;31m    2var=3\u001b[0m\n\u001b[0m       ^\u001b[0m\n\u001b[0;31mSyntaxError\u001b[0m\u001b[0;31m:\u001b[0m invalid syntax\n"
     ]
    }
   ],
   "source": [
    "2var=3"
   ]
  },
  {
   "cell_type": "code",
   "execution_count": 23,
   "id": "advisory-messaging",
   "metadata": {},
   "outputs": [
    {
     "ename": "SyntaxError",
     "evalue": "invalid syntax (<ipython-input-23-fdf5e94b2463>, line 1)",
     "output_type": "error",
     "traceback": [
      "\u001b[0;36m  File \u001b[0;32m\"<ipython-input-23-fdf5e94b2463>\"\u001b[0;36m, line \u001b[0;32m1\u001b[0m\n\u001b[0;31m    my var = 3\u001b[0m\n\u001b[0m         ^\u001b[0m\n\u001b[0;31mSyntaxError\u001b[0m\u001b[0;31m:\u001b[0m invalid syntax\n"
     ]
    }
   ],
   "source": [
    "my var = 3"
   ]
  },
  {
   "cell_type": "code",
   "execution_count": 24,
   "id": "particular-intake",
   "metadata": {},
   "outputs": [
    {
     "ename": "SyntaxError",
     "evalue": "can't assign to operator (<ipython-input-24-e85ac520fbfa>, line 1)",
     "output_type": "error",
     "traceback": [
      "\u001b[0;36m  File \u001b[0;32m\"<ipython-input-24-e85ac520fbfa>\"\u001b[0;36m, line \u001b[0;32m1\u001b[0m\n\u001b[0;31m    my-var = 3\u001b[0m\n\u001b[0m              ^\u001b[0m\n\u001b[0;31mSyntaxError\u001b[0m\u001b[0;31m:\u001b[0m can't assign to operator\n"
     ]
    }
   ],
   "source": [
    "my-var = 3"
   ]
  },
  {
   "cell_type": "markdown",
   "id": "renewable-auction",
   "metadata": {},
   "source": [
    "### Exercise 1.4.\n",
    "#### Create a variable in Python and assign your age to it. Check that your code worked by printing the value of your variable.\n",
    "#### สร้างตัวแปรในไพธอนและกำหนดค่าอายุของคุณให้กับมัน ตรวจสอบว่าโค้ดของคุณทำงานได้โดยการพิมพ์ค่าของตัวแปรของคุณ"
   ]
  },
  {
   "cell_type": "markdown",
   "id": "another-knitting",
   "metadata": {},
   "source": [
    "### Exercise 1.5.\n",
    "#### Now reassign your variable to your last name. Check that your code worked by printing the value of your variable. Do _NOT_ change the name of your variable even though it no longer makes sense.\n",
    "\n",
    "#### กำหนดค่าใหม่ให้กับตัวแปรของคุณเป็นนามสกุลของคุณ ตรวจสอบว่าโค้ดของคุณทำงานได้โดยการพิมพ์ค่าของตัวแปรของคุณ อย่า _เปลี่ยน_ ชื่อตัวแปรแม้ว่ามันจะไม่เกี่ยวข้องต่อตัวแปรในขณะนี้"
   ]
  },
  {
   "cell_type": "markdown",
   "id": "corporate-uniform",
   "metadata": {},
   "source": [
    "### Data Types"
   ]
  },
  {
   "cell_type": "markdown",
   "id": "round-wonder",
   "metadata": {},
   "source": [
    "Python has many different data types for different purposes. \\\n",
    "We have already encountered some of the data types in the exercises above.\n",
    "\n",
    "ไพธอนมีชนิดข้อมูลหลายประการที่ใช้เพื่อวัตถุประสงค์ต่าง ๆ \\\n",
    "เราได้พบกับบางประการของชนิดข้อมูลนี้ในการบ้านที่ผ่านมาแล้ว"
   ]
  },
  {
   "cell_type": "markdown",
   "id": "useful-influence",
   "metadata": {},
   "source": [
    "#### Numeric types (ชนิดข้อมูลตัวเลข)\n",
    "Python has numeric type operators. We will mostly use integers and floats. \\\n",
    "Integers are whole numbers, while floats are numbers that have \"floating\" points\n",
    "\n",
    "ไพธอนมีตัวดำเนินการชนิดตัวเลข โดยที่เราจะใช้เป็นส่วนใหญ่กับจำนวนเต็มและทศนิยม \\\n",
    "จำนวนเต็มคือตัวเลขทั้งหมด, ในขณะที่ทศนิยมคือตัวเลขที่มีจุด \"ลอย\""
   ]
  },
  {
   "cell_type": "code",
   "execution_count": 38,
   "id": "stuck-thousand",
   "metadata": {},
   "outputs": [],
   "source": [
    "# The number below is an integer - `int` type\n",
    "a = 5"
   ]
  },
  {
   "cell_type": "code",
   "execution_count": 39,
   "id": "beautiful-president",
   "metadata": {},
   "outputs": [],
   "source": [
    "# The number below is a float - `float` type\n",
    "b = 5.5"
   ]
  },
  {
   "cell_type": "markdown",
   "id": "bronze-insight",
   "metadata": {},
   "source": [
    "You can check the type of the variable by using the function `type()`\n",
    "\n",
    "คุณสามารถตรวจสอบประเภทของตัวแปรได้โดยการใช้ฟังก์ชัน `type()`"
   ]
  },
  {
   "cell_type": "code",
   "execution_count": 41,
   "id": "cheap-wilson",
   "metadata": {},
   "outputs": [
    {
     "data": {
      "text/plain": [
       "(int, float)"
      ]
     },
     "execution_count": 41,
     "metadata": {},
     "output_type": "execute_result"
    }
   ],
   "source": [
    "type(a), type(b)"
   ]
  },
  {
   "cell_type": "markdown",
   "id": "similar-drill",
   "metadata": {},
   "source": [
    "You can perform mathematical operations on numeric type operators. \n",
    "\n",
    "คุณสามารถดำเนินการทางคณิตศาสตร์กับตัวดำเนินการชนิดตัวเลขได้\n",
    "\n",
    "Addition, using the `+` operator \n",
    "\n",
    "การบวก, โดยใช้ตัวดำเนินการ `+`\n",
    "\n",
    "Subtraction, using the `-` operator \n",
    "\n",
    "การลบ, โดยใช้ตัวดำเนินการ `-`\n",
    "\n",
    "Division, using the `/` operator \n",
    "\n",
    "การหาร, โดยใช้ตัวดำเนินการ `/`\n",
    "\n",
    "Multiplication, using the `*` operator\n",
    "\n",
    "การคูณ, โดยใช้ตัวดำเนินการ `*`"
   ]
  },
  {
   "cell_type": "markdown",
   "id": "attended-influence",
   "metadata": {},
   "source": [
    "### Exercise 1.6.\n",
    "#### Perform the following arithmetic operations between your variables `a` and `b` declared above and print them to the screen:\n",
    "#### ดำเนินการทางคณิตศาสตร์ต่อไปนี้ระหว่างตัวแปร a และ b ที่ถูกประกาศด้านบนแล้วพิมพ์ผลลัพธ์ที่จอดาวน์ที่หน้าจอ:\n",
    "#### 1) a + b\n",
    "#### 2) a - b\n",
    "#### 3) b / a\n",
    "#### 4) b * a\n",
    "\n",
    "#### HINT: you can perform the arithmetic operations *inside* the `print()` function\n",
    "#### คำแนะนำ: คุณสามารถดำเนินการทางคณิตศาสตร์ *ภายใน* ฟังก์ชัน `print()`"
   ]
  },
  {
   "cell_type": "markdown",
   "id": "convenient-career",
   "metadata": {},
   "source": [
    "You can change the type of your numeric variable. See below:\n",
    "\n",
    "คุณสามารถเปลี่ยนประเภทของตัวแปรตัวเลขของคุณ ดูด้านล่าง:"
   ]
  },
  {
   "cell_type": "code",
   "execution_count": 51,
   "id": "ahead-assembly",
   "metadata": {},
   "outputs": [
    {
     "name": "stdout",
     "output_type": "stream",
     "text": [
      "10.5\n"
     ]
    },
    {
     "data": {
      "text/plain": [
       "float"
      ]
     },
     "execution_count": 51,
     "metadata": {},
     "output_type": "execute_result"
    }
   ],
   "source": [
    "c = a+b\n",
    "print(c)\n",
    "type(c)"
   ]
  },
  {
   "cell_type": "code",
   "execution_count": 58,
   "id": "loaded-british",
   "metadata": {},
   "outputs": [],
   "source": [
    "# Let's change the type of c to an integer!\n",
    "c = int(c)"
   ]
  },
  {
   "cell_type": "code",
   "execution_count": 57,
   "id": "invalid-london",
   "metadata": {},
   "outputs": [
    {
     "name": "stdout",
     "output_type": "stream",
     "text": [
      "10\n"
     ]
    },
    {
     "data": {
      "text/plain": [
       "int"
      ]
     },
     "execution_count": 57,
     "metadata": {},
     "output_type": "execute_result"
    }
   ],
   "source": [
    "print(c)\n",
    "type(c)"
   ]
  },
  {
   "cell_type": "markdown",
   "id": "irish-quick",
   "metadata": {},
   "source": [
    "### Strings"
   ]
  },
  {
   "cell_type": "markdown",
   "id": "fallen-consensus",
   "metadata": {},
   "source": [
    "Strings (`str`) represent text types in Python. \n",
    "\n",
    "สตริง (`str`) แทนประเภทข้อมูลข้อความในไพธอน"
   ]
  },
  {
   "cell_type": "code",
   "execution_count": 88,
   "id": "bored-typing",
   "metadata": {},
   "outputs": [
    {
     "data": {
      "text/plain": [
       "str"
      ]
     },
     "execution_count": 88,
     "metadata": {},
     "output_type": "execute_result"
    }
   ],
   "source": [
    "message1 = \"hello\"\n",
    "type(message1)"
   ]
  },
  {
   "cell_type": "markdown",
   "id": "macro-mongolia",
   "metadata": {},
   "source": [
    "Strings can be written inside either double `\"` or single `'` brackets - it doesn't matter which, but it's good practice to use the double brackets - `\"`.\n",
    "\n",
    "สตริงสามารถเขียนด้วยเครื่องหมายคำพูดคู่ `\"` หรือเดี่ยว `'` - ไม่มีผลต่อการทำงาน แต่ทำตามนิยมให้ใช้เครื่องหมายคำพูดคู่ `\"` เป็นนิยามที่ดี\n",
    "\n",
    "Note, if you write a number within the quotes - it will also be a string! Be careful.\n",
    "\n",
    "โปรดทราบว่าหากคุณเขียนตัวเลขภายในเครื่องหมายคำพูด - มันจะเป็นสตริงเช่นกัน! กรุณาระมัดระวัง"
   ]
  },
  {
   "cell_type": "code",
   "execution_count": 89,
   "id": "coupled-trust",
   "metadata": {},
   "outputs": [
    {
     "data": {
      "text/plain": [
       "str"
      ]
     },
     "execution_count": 89,
     "metadata": {},
     "output_type": "execute_result"
    }
   ],
   "source": [
    "message2 = 'hello'\n",
    "type(message2)"
   ]
  },
  {
   "cell_type": "code",
   "execution_count": 91,
   "id": "auburn-clarity",
   "metadata": {},
   "outputs": [
    {
     "data": {
      "text/plain": [
       "str"
      ]
     },
     "execution_count": 91,
     "metadata": {},
     "output_type": "execute_result"
    }
   ],
   "source": [
    "myStringNumber = \"10\"\n",
    "type(myStringNumber)"
   ]
  },
  {
   "cell_type": "markdown",
   "id": "decent-isolation",
   "metadata": {},
   "source": [
    "We can also perform some (not all!) arithmetic operations on strings.\n",
    "\n",
    "เรายังสามารถดำเนินการทางคณิตศาสตร์บางอย่าง (ไม่ทั้งหมด!) กับสตริงได้ด้วย"
   ]
  },
  {
   "cell_type": "code",
   "execution_count": 60,
   "id": "beneficial-ordinance",
   "metadata": {},
   "outputs": [],
   "source": [
    "message = \"Hello, \"\n",
    "name = \"Tom\""
   ]
  },
  {
   "cell_type": "code",
   "execution_count": 61,
   "id": "stylish-champagne",
   "metadata": {},
   "outputs": [
    {
     "name": "stdout",
     "output_type": "stream",
     "text": [
      "Hello, Tom\n"
     ]
    }
   ],
   "source": [
    "print(message + name)"
   ]
  },
  {
   "cell_type": "code",
   "execution_count": 64,
   "id": "romance-mention",
   "metadata": {},
   "outputs": [
    {
     "name": "stdout",
     "output_type": "stream",
     "text": [
      "TomTom\n"
     ]
    }
   ],
   "source": [
    "print(name * 2)"
   ]
  },
  {
   "cell_type": "markdown",
   "id": "hungry-clearing",
   "metadata": {},
   "source": [
    "### Exercise 1.7.\n",
    "\n",
    "#### Consider a variable called  `message`: (พิจารณาตัวแปรที่ชื่อว่า `message`:)\n",
    "#### message = \" likes Python\"\n",
    "#### Create a variable  `name` that contains your name and display \"[NAME] likes Python by adding your two variables together\n",
    "#### สร้างตัวแปร `name` ที่บรรจุชื่อของคุณและแสดงผล \"[NAME] ชอบไพธอน\" โดยการรวมตัวแปรสองตัวเข้าด้วยกัน"
   ]
  },
  {
   "cell_type": "markdown",
   "id": "spread-stanley",
   "metadata": {},
   "source": [
    "### Exercise 1.8\n",
    "\n",
    "#### Try out other arithmetic operations on strings and see which ones work and which ones don't. Can you explain why?\n",
    "#### ลองใช้การดำเนินการทางคณิตศาสตร์อื่น ๆ บนสตริงและดูว่าอันไหนทำงานและอันไหนไม่ทำงาน สามารถอธิบายได้ไหมว่าทำไม?"
   ]
  },
  {
   "cell_type": "markdown",
   "id": "individual-netherlands",
   "metadata": {},
   "source": [
    "### Booleans"
   ]
  },
  {
   "cell_type": "markdown",
   "id": "automated-appearance",
   "metadata": {},
   "source": [
    "Booleans represent truth values - either `True` or `False`. We can evaluate any expression with these values. For example:\n",
    "\n",
    "บูลีนแทนค่าความจริง - ได้แก่ `True` หรือ `False` เราสามารถประเมินนิพจน์ใด ๆ ด้วยค่าเหล่านี้ได้ เช่น:"
   ]
  },
  {
   "cell_type": "code",
   "execution_count": 70,
   "id": "stable-track",
   "metadata": {},
   "outputs": [
    {
     "data": {
      "text/plain": [
       "True"
      ]
     },
     "execution_count": 70,
     "metadata": {},
     "output_type": "execute_result"
    }
   ],
   "source": [
    "5 == 5"
   ]
  },
  {
   "cell_type": "code",
   "execution_count": 71,
   "id": "fabulous-profit",
   "metadata": {},
   "outputs": [
    {
     "data": {
      "text/plain": [
       "False"
      ]
     },
     "execution_count": 71,
     "metadata": {},
     "output_type": "execute_result"
    }
   ],
   "source": [
    "1 == 5"
   ]
  },
  {
   "cell_type": "markdown",
   "id": "pointed-tulsa",
   "metadata": {},
   "source": [
    "Note that I used comparison operator \"equals\" above, which is double equality sign `==`. This is not the same as a single `=`, which is used to assign values to variables!\n",
    "\n",
    "\n",
    "โปรดทราบว่าผมใช้ตัวดำเนินการเปรียบเทียบ \"เท่ากับ\" ด้วยเครื่องหมายเท่ากันคู่ == ข้างบนนี้ ซึ่งไม่เหมือนกับ = เดียวที่ใช้ในการกำหนดค่าให้กับตัวแปร!\n",
    "\n",
    "Other comparison operators are:\n",
    "\n",
    "ตัวดำเนินการเปรียบเทียบอื่น ๆ ได้แก่:\n",
    "\n",
    "`!=` - not equal to \\\n",
    "\n",
    "`!=` - ไม่เท่ากับ \\\n",
    "\n",
    "`>` - greater than \\\n",
    "\n",
    "`>` - มากกว่า \\\n",
    "\n",
    "`<` - less than \\\n",
    "\n",
    "`<` - น้อยกว่า \\\n",
    "\n",
    "`>=` - greater than or equal to \\\n",
    "\n",
    "`>=` - มากกว่าหรือเท่ากับ \\\n",
    "\n",
    "`<=` - less than or equal to\n",
    "\n",
    "`<=` - น้อยกว่าหรือเท่ากับ"
   ]
  },
  {
   "cell_type": "markdown",
   "id": "level-blues",
   "metadata": {},
   "source": [
    "### Exercise 1.9.\n",
    "\n",
    "#### Let myNumber = 123 and myOtherNumber = 12.5.\n",
    "#### Compare the values of these two variables using the comparison operators\n",
    "\n",
    "#### เปรียบเทียบค่าของตัวแปรเหล่านี้โดยใช้ตัวดำเนินการเปรียบเทียบ"
   ]
  },
  {
   "cell_type": "markdown",
   "id": "rising-alabama",
   "metadata": {},
   "source": [
    "Most values in Python are `True`. The exceptions, i.e. values that equal to `False` are:\n",
    "\n",
    "ค่าส่วนใหญ่ในไพธอนมีค่าเป็น `True` นอกจากนี้, ค่าที่เท่ากับ `False` คือ:\n",
    "\n",
    "empty values, e.g. empty strings (ค่าที่ว่าง, เช่น สตริงที่ว่าง) \\\n",
    "number 0 (ตัวเลข 0) \\\n",
    "value `None`, which can be assigned to a variable, but is also just an empty value (ค่า `None`, ที่สามารถกำหนดให้กับตัวแปรได้ แต่เป็นค่าว่าง)\n",
    "\n",
    "To check the truth statement of a value, we can use `bool()` function.\n",
    "\n",
    "ในการตรวจสอบค่าว่าเป็นจริงหรือเท็จ, เราสามารถใช้ฟังก์ชัน bool()"
   ]
  },
  {
   "cell_type": "markdown",
   "id": "endless-investment",
   "metadata": {},
   "source": [
    "### Exercise 1.10.\n",
    "\n",
    "#### Evaluate the following expressions:\n",
    "\n",
    "#### 1) bool(\"Hello\")\n",
    "#### 2) bool(\"\")\n",
    "#### 3) bool (1.23)\n",
    "#### 4) bool(0.0)\n",
    "#### 5) bool()"
   ]
  },
  {
   "cell_type": "markdown",
   "id": "electronic-panel",
   "metadata": {},
   "source": [
    "### Homework:\n",
    "\n",
    "#### Practice your first Python lesson and compare your answers with the answers uploaded by the teacher. Come in next time with questions to get the most out if it!"
   ]
  }
 ],
 "metadata": {
  "kernelspec": {
   "display_name": "Python 3",
   "language": "python",
   "name": "python3"
  },
  "language_info": {
   "codemirror_mode": {
    "name": "ipython",
    "version": 3
   },
   "file_extension": ".py",
   "mimetype": "text/x-python",
   "name": "python",
   "nbconvert_exporter": "python",
   "pygments_lexer": "ipython3",
   "version": "3.7.10"
  }
 },
 "nbformat": 4,
 "nbformat_minor": 5
}
