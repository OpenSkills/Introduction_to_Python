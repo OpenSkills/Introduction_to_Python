{
 "cells": [
  {
   "cell_type": "markdown",
   "metadata": {},
   "source": [
    "## Project: สร้างแชทบอทสำหรับการให้คำแนะนำการวิ่ง\n",
    "\n",
    "ชื่อผู้จัดทำ\n",
    "\n",
    "Natthanan Wananpha"
   ]
  },
  {
   "cell_type": "markdown",
   "metadata": {},
   "source": [
    "### 1.1 ที่มาและความสำคัญ"
   ]
  },
  {
   "cell_type": "markdown",
   "metadata": {},
   "source": [
    "การทำโปรเจ็คที่เกี่ยวกับการวิ่งเป็นโอกาสที่ยอดเยี่ยมในการนำความรู้ที่เราได้รับจากการเรียน Introduction to Python มาใช้ประโยชน์อย่างเต็มที่ โดยการใช้ Python เพื่อสร้างแชทบอทสำหรับการรับคำแนะนำการวิ่งจาก ChatGPT"
   ]
  },
  {
   "cell_type": "markdown",
   "metadata": {},
   "source": [
    "### 1.1 วัตถุประสงค์"
   ]
  },
  {
   "cell_type": "markdown",
   "metadata": {},
   "source": [
    "เพื่อสร้างแชทการให้คำแนะนำการวิ่ง จาก ChatGPT"
   ]
  },
  {
   "cell_type": "markdown",
   "metadata": {},
   "source": [
    "### 1.3 ขอบเขตและประโยชน์"
   ]
  },
  {
   "cell_type": "markdown",
   "metadata": {},
   "source": [
    "สามารถส่งข้อมูลที่เกี่ยวกับเนื้อหาการวิ่งไปยัง ChatGPT และได้คำตอบของคำถามจาก ChatGPT ได้"
   ]
  },
  {
   "cell_type": "markdown",
   "metadata": {},
   "source": [
    "### 1.4 วิธีการดำเนินงาน"
   ]
  },
  {
   "cell_type": "code",
   "execution_count": 1,
   "metadata": {},
   "outputs": [],
   "source": [
    "# Insert your API key here\n",
    "from openai import OpenAI"
   ]
  },
  {
   "cell_type": "code",
   "execution_count": 16,
   "metadata": {},
   "outputs": [
    {
     "name": "stdout",
     "output_type": "stream",
     "text": [
      "Requirement already satisfied: python-dotenv in /Users/natthanan/anaconda3/envs/python_course/lib/python3.11/site-packages (1.0.1)\n",
      "Note: you may need to restart the kernel to use updated packages.\n"
     ]
    }
   ],
   "source": [
    "pip install python-dotenv"
   ]
  },
  {
   "cell_type": "code",
   "execution_count": 17,
   "metadata": {},
   "outputs": [],
   "source": [
    "from dotenv import load_dotenv\n",
    "import os\n",
    "my_api_key = os.environ['my_api_key']"
   ]
  },
  {
   "cell_type": "code",
   "execution_count": 21,
   "metadata": {},
   "outputs": [],
   "source": [
    "promptMessage = \"\"\n",
    "with open('prompt.txt', 'r') as file:\n",
    "    # Read the content\n",
    "    promptMessage = file.read()"
   ]
  },
  {
   "cell_type": "code",
   "execution_count": 22,
   "metadata": {},
   "outputs": [],
   "source": [
    "additional_message = {\n",
    "    \"role\": \"system\", \n",
    "    \"content\": promptMessage\n",
    "    }"
   ]
  },
  {
   "cell_type": "code",
   "execution_count": 23,
   "metadata": {},
   "outputs": [
    {
     "name": "stdout",
     "output_type": "stream",
     "text": [
      "Me: Hello sir\n",
      "ChatGPT: Hello Neng! How can I help you today with your running?\n",
      "Me: I would like to know running beginner\n",
      "ChatGPT: For beginners looking to improve their running and increase speed, focus on gradually increasing your mileage each week, incorporating interval training to build speed, and ensuring you have proper form and technique to prevent injury. Remember to listen to your body and rest when needed to allow for recovery and progress. Good luck with your running journey, Neng!\n",
      "Me: quist\n",
      "ChatGPT: If you have any more questions, feel free to ask, Neng! I'm here to help you improve your running. Keep up the great work!\n"
     ]
    }
   ],
   "source": [
    "# Code \n",
    "message = []\n",
    "message.append(additional_message)\n",
    "\n",
    "# Conversation\n",
    "def interact_with_ChatGPT(api_key, messages):\n",
    "    client = OpenAI(api_key=api_key)\n",
    "\n",
    "    while True:\n",
    "        content = input(\"User: \")\n",
    "\n",
    "        if content == \"quit\":\n",
    "            break\n",
    "        else:\n",
    "            print(\"Me:\", content)\n",
    "    \n",
    "            messages.append({\"role\": \"user\", \"content\": content})\n",
    "\n",
    "            # API ChatGPT\n",
    "            chat_completion = client.chat.completions.create(\n",
    "            messages = messages,\n",
    "            model = \"gpt-3.5-turbo\", # This is the type of model we will use from the models ChatGPT provides\n",
    "            )\n",
    "\n",
    "            chat_response = chat_completion.choices[0].message.content\n",
    "\n",
    "            # add content of assi\n",
    "            message_assistant = {\n",
    "                \"role\": \"assistant\", \n",
    "                \"content\": chat_response\n",
    "            }\n",
    "    \n",
    "            message.append(message_assistant)\n",
    "\n",
    "            print(f\"ChatGPT: {chat_response}\")\n",
    "\n",
    "# Call function\n",
    "interact_with_ChatGPT(my_api_key, message)\n"
   ]
  },
  {
   "cell_type": "markdown",
   "metadata": {},
   "source": [
    "### 1.5 ผลลัพธ์การดำเนินงาน"
   ]
  },
  {
   "cell_type": "markdown",
   "metadata": {},
   "source": [
    "#### Result of project"
   ]
  },
  {
   "cell_type": "markdown",
   "metadata": {},
   "source": [
    "การดำเนินการของ Project ที่ผ่านมา สามารถสร้างแชทบอท โดย User สามารถส่งข้อมูลที่อยากสอบถามให้ ChatGPT นั้นให้ตอบโต้กับ User ได้ และข้อมูลที่ ChatGPT ส่งมา User สามารถนำไปใช้สำหรับวิ่งได้ โดยขึ้นอยู่กับความถูกต้องของข้อมูล"
   ]
  }
 ],
 "metadata": {
  "kernelspec": {
   "display_name": "python_course",
   "language": "python",
   "name": "python3"
  },
  "language_info": {
   "codemirror_mode": {
    "name": "ipython",
    "version": 3
   },
   "file_extension": ".py",
   "mimetype": "text/x-python",
   "name": "python",
   "nbconvert_exporter": "python",
   "pygments_lexer": "ipython3",
   "version": "3.11.7"
  }
 },
 "nbformat": 4,
 "nbformat_minor": 2
}
