{
 "cells": [
  {
   "cell_type": "markdown",
   "metadata": {},
   "source": [
    "# Python -  Lesson 2"
   ]
  },
  {
   "cell_type": "markdown",
   "metadata": {},
   "source": [
    "### Recap"
   ]
  },
  {
   "cell_type": "markdown",
   "metadata": {},
   "source": [
    "Let's recap what we've learned so far. Last time we talked about value assignment to variables and Python data types. Let's see how much you remember!\n",
    "\n",
    "มาทบทวนสิ่งที่เราเรียนรู้กันไปเมื่อครั้งที่แล้วกัน! ครั้งที่แล้วเราคุยกันเรื่องการกำหนดค่าให้ตัวแปรและชนิดข้อมูลในภาษา Python ตอนนี้มาลองดูกันว่าคุณจำได้มากแค่ไหน!"
   ]
  },
  {
   "cell_type": "code",
   "execution_count": 6,
   "metadata": {},
   "outputs": [],
   "source": [
    "x = 15.5\n",
    "y = 10.5\n",
    "z = int(\"300\")\n",
    "q = \"300\" - \"0\"\n",
    "v = \"300\" + \"1\""
   ]
  },
  {
   "cell_type": "markdown",
   "metadata": {},
   "source": [
    "1) What is the data type of `x`? How can you check?\n",
    "(`x` มีชนิดข้อมูลอะไร  ตรวจสอบได้ยังไง?)\n",
    "2) What does `x - y` equal to? What is the type of the value? Do you know why?\n",
    "(`x - y` มีค่าเท่ากับอะไร  ค่าที่ได้มีชนิดข้อมูลอะไร ?  คุณรู้ไหมว่าเพราะอะไร?)\n",
    "3) What is the data type of `z`?\n",
    "(\"z\" มีชนิดข้อมูลอะไร?)\n",
    "4) What does `q` equal to? Why?\n",
    "(`q` มีค่าเท่ากับอะไร? ทำไม?)\n",
    "5) What does `v` equal to?\n",
    "(`v` มีค่าเท่ากับอะไร?)\n",
    "6) What is the truth value of `2 > 100`?\n",
    "(\"2 > 100\" ประโยคนี้มีค่าความจริงเป็นอย่างไร?)"
   ]
  },
  {
   "cell_type": "markdown",
   "metadata": {},
   "source": [
    "### Data Types - continuation"
   ]
  },
  {
   "cell_type": "markdown",
   "metadata": {},
   "source": [
    "Python has different data types for storing multiple values in a single variable. These data types are:\n",
    "\n",
    "Python มีหลายชนิดข้อมูลที่ใช้สำหรับเก็บข้อมูลหลายค่าไว้ในตัวแปรเดียว.\n",
    "\n",
    "1) Lists - type: list()\n",
    "2) Sets - type: set()\n",
    "3) Tuples - type: tuple()\n",
    "4) Dictionaries - type: dict()\n",
    "\n",
    "They all have different properties and we use them in different situations.\n",
    "\n",
    "ชนิดข้อมูลเหล่านี้ต่างก็มีคุณสมบัติที่แตกต่างกัน และเราใช้พวกมันในสถานการณ์ที่แตกต่างกันไปด้วยครับ."
   ]
  },
  {
   "cell_type": "markdown",
   "metadata": {},
   "source": [
    "#### Lists"
   ]
  },
  {
   "cell_type": "code",
   "execution_count": 22,
   "metadata": {},
   "outputs": [],
   "source": [
    "myList = [2, 3.5, \"hello\", True]"
   ]
  },
  {
   "cell_type": "markdown",
   "metadata": {},
   "source": [
    "List items are ordered, changeable, and allow duplicate values. Lists can hold values of different data types. Lists can be nested - i.e. a list can contain another list.\n",
    "\n",
    "รายการเรียงลำดับ (ordered), เปลี่ยนแปลงได้ (changeable) และมีค่าซ้ำได้ (allow duplicate values).รายการสามารถเก็บข้อมูลได้หลากหลายชนิด. \n",
    "รายการสามารถซ้อนกันได้ หมายความว่า รายการหนึ่งสามารถบรรจุรายการอื่นๆ ไว้ข้างในได้ด้วย"
   ]
  },
  {
   "cell_type": "code",
   "execution_count": 21,
   "metadata": {},
   "outputs": [],
   "source": [
    "# this is a nested list\n",
    "myNestedList = [2, 3.5, \"hello\", True, [1, 2, 3]]"
   ]
  },
  {
   "cell_type": "markdown",
   "metadata": {},
   "source": [
    "#### Order - indexing"
   ]
  },
  {
   "cell_type": "markdown",
   "metadata": {},
   "source": [
    "List items are ordered. We can access list items by indexing (i.e. using the order of the list)\n",
    "\n",
    "รายการเรียงตามลำดับ เราสามารถเข้าถึงข้อมูลภายในรายการได้โดยใช้ตัวเลขอ้างอิง (Indexing) ตามลำดับของรายการ\n",
    "\n",
    "Indexing in Python starts from 0. \n",
    "\n",
    "ภาษา Python เริ่มการจัดลำดับ (Indexing) ที่เลข 0"
   ]
  },
  {
   "cell_type": "code",
   "execution_count": 4,
   "metadata": {},
   "outputs": [
    {
     "data": {
      "text/plain": [
       "2"
      ]
     },
     "execution_count": 4,
     "metadata": {},
     "output_type": "execute_result"
    }
   ],
   "source": [
    "myNestedList[0]"
   ]
  },
  {
   "cell_type": "markdown",
   "metadata": {},
   "source": [
    "We can do indexing backwards in Python too. In that case, we start from -1.\n",
    "Python รองรับการจัดลำดับย้อนกลับด้วยนะ!  กรณีนี้ เราจะเริ่มจากเลข -1 จ้า"
   ]
  },
  {
   "cell_type": "code",
   "execution_count": null,
   "metadata": {},
   "outputs": [
    {
     "data": {
      "text/plain": [
       "[1, 2, 3]"
      ]
     },
     "execution_count": 22,
     "metadata": {},
     "output_type": "execute_result"
    }
   ],
   "source": [
    "myNestedList[-1]"
   ]
  },
  {
   "cell_type": "markdown",
   "metadata": {},
   "source": [
    "We can also \"slice\" a list to access multiple elements at the same time.\n",
    "Slicing is done like so: [Initial value: End value]\n",
    "\n",
    "วิธีการแบ่งส่วนก็ง่ายๆ เลย แค่ใส่เลขบอกตำแหน่งเริ่มต้นและสิ้นสุดในวงเล็บเหลี่ยม [ตำแหน่งเริ่มต้น:ตำแหน่งสิ้นสุด]"
   ]
  },
  {
   "cell_type": "code",
   "execution_count": 20,
   "metadata": {},
   "outputs": [
    {
     "data": {
      "text/plain": [
       "['hello', True, [1, 2, 3]]"
      ]
     },
     "execution_count": 20,
     "metadata": {},
     "output_type": "execute_result"
    }
   ],
   "source": [
    "myNestedList[2:5] # Watch out: end number is not inclusive!"
   ]
  },
  {
   "cell_type": "markdown",
   "metadata": {},
   "source": [
    "### Exercise 2.1 \n",
    "\n",
    "What is the 3rd element in `myList`? \n",
    "\n",
    "`myList` ของคุณ อันดับที่ 3 คืออะไร?"
   ]
  },
  {
   "cell_type": "code",
   "execution_count": null,
   "metadata": {},
   "outputs": [],
   "source": []
  },
  {
   "cell_type": "markdown",
   "metadata": {},
   "source": [
    "Another important attribute of lists is that they can contain duplicate values.\n",
    "\n",
    "รายการ (List) ใน Python อีกคุณสมบัติที่สำคัญคือ สามารถมีค่าที่ซ้ำกันได้ (allow duplicate values)"
   ]
  },
  {
   "cell_type": "code",
   "execution_count": 32,
   "metadata": {},
   "outputs": [],
   "source": [
    "myNewList = [\"apple\", \"banana\", \"kiwi\", \"apple\", \"apple\"]"
   ]
  },
  {
   "cell_type": "markdown",
   "metadata": {},
   "source": [
    "The list is changeable, meaning that we can change, add, and remove items in a list after it has been created.\n",
    "\n",
    "รายการใน Python สามารถเปลี่ยนแปลงได้ นั่นหมายความว่า หลังจากสร้างรายการแล้ว เราสามารถเปลี่ยนแปลง แก้ไข เพิ่มเติม หรือลบข้อมูลภายในรายการได้"
   ]
  },
  {
   "cell_type": "code",
   "execution_count": 23,
   "metadata": {},
   "outputs": [
    {
     "name": "stdout",
     "output_type": "stream",
     "text": [
      "[2, 3.5, 'hello', True]\n",
      "[2, 3.5, 'hello', 'this is a changed value']\n"
     ]
    }
   ],
   "source": [
    "print(myList)\n",
    "myList[3] = \"this is a changed value\"\n",
    "print(myList)"
   ]
  },
  {
   "cell_type": "markdown",
   "metadata": {},
   "source": [
    "Adding to list is done using the `.append()` method.\n",
    "\n",
    "การเพิ่มข้อมูลเข้าไปในรายการทำได้โดยใช้เมธอด .append()"
   ]
  },
  {
   "cell_type": "code",
   "execution_count": 24,
   "metadata": {},
   "outputs": [
    {
     "name": "stdout",
     "output_type": "stream",
     "text": [
      "[2, 3.5, 'hello', 'this is a changed value']\n",
      "[2, 3.5, 'hello', 'this is a changed value', '2024']\n"
     ]
    }
   ],
   "source": [
    "print(myList)\n",
    "myList.append(\"2024\")\n",
    "print(myList)"
   ]
  },
  {
   "cell_type": "markdown",
   "metadata": {},
   "source": [
    "### Exercise 2.2\n",
    "\n",
    "Add a list to the variable `myList` that contains your name and age.\n",
    "\n",
    "เพิ่มรายการลงในตัวแปร myList โดยรายการนั้นประกอบด้วย ชื่อของคุณ และ อายุของคุณ"
   ]
  },
  {
   "cell_type": "code",
   "execution_count": null,
   "metadata": {},
   "outputs": [],
   "source": []
  },
  {
   "cell_type": "markdown",
   "metadata": {},
   "source": [
    "You can also remove elements from your list. The following methods can be used for removing items:\n",
    "\n",
    "1) `.remove()` - removes the specified element. If more than one, only removes the first occurrence.\n",
    "2) `.pop()` - removes the element by its index. If you don't specify the index, the last element will be removed.\n",
    "3) `.del()` - similar to pop, can delete the whole list.\n",
    "\n",
    "คุณสามารถลบข้อมูลในรายการได้เช่นกัน วิธีการลบมีดังนี้:\n",
    "\n",
    "1) `.remove()` - ลบข้อมูลที่ระบุ หากมีข้อมูลนั้นหลายตำแหน่ง จะลบเฉพาะตำแหน่งแรกที่เจอ\n",
    "2) `.pop()` - ลบข้อมูลตามตำแหน่ง (index) ของข้อมูลนั้น ถ้าไม่ระบุตำแหน่ง จะลบข้อมูลชิ้นสุดท้าย\n",
    "3) `.del()` - คล้ายกับ pop แต่สามารถลบทั้งรายการได้"
   ]
  },
  {
   "cell_type": "code",
   "execution_count": 33,
   "metadata": {},
   "outputs": [
    {
     "name": "stdout",
     "output_type": "stream",
     "text": [
      "['apple', 'banana', 'kiwi', 'apple', 'apple']\n",
      "['banana', 'kiwi', 'apple', 'apple']\n"
     ]
    }
   ],
   "source": [
    "print(myNewList)\n",
    "myNewList.remove(\"apple\") # note how we only deleted one \"apple\"\n",
    "print(myNewList)"
   ]
  },
  {
   "cell_type": "code",
   "execution_count": 34,
   "metadata": {},
   "outputs": [
    {
     "name": "stdout",
     "output_type": "stream",
     "text": [
      "['banana', 'kiwi', 'apple', 'apple']\n",
      "['kiwi', 'apple', 'apple']\n"
     ]
    }
   ],
   "source": [
    "print(myNewList)\n",
    "myNewList.pop(0) # note how .pop() returns the item you're deleting\n",
    "print(myNewList)"
   ]
  },
  {
   "cell_type": "code",
   "execution_count": 36,
   "metadata": {},
   "outputs": [
    {
     "ename": "NameError",
     "evalue": "name 'myNewList' is not defined",
     "output_type": "error",
     "traceback": [
      "\u001b[0;31m---------------------------------------------------------------------------\u001b[0m",
      "\u001b[0;31mNameError\u001b[0m                                 Traceback (most recent call last)",
      "\u001b[0;32m<ipython-input-36-07f2e3d86b54>\u001b[0m in \u001b[0;36m<module>\u001b[0;34m\u001b[0m\n\u001b[0;32m----> 1\u001b[0;31m \u001b[0;32mdel\u001b[0m \u001b[0mmyNewList\u001b[0m\u001b[0;34m\u001b[0m\u001b[0;34m\u001b[0m\u001b[0m\n\u001b[0m\u001b[1;32m      2\u001b[0m \u001b[0mprint\u001b[0m\u001b[0;34m(\u001b[0m\u001b[0mmyNewList\u001b[0m\u001b[0;34m)\u001b[0m\u001b[0;34m\u001b[0m\u001b[0;34m\u001b[0m\u001b[0m\n",
      "\u001b[0;31mNameError\u001b[0m: name 'myNewList' is not defined"
     ]
    }
   ],
   "source": [
    "del myNewList\n",
    "print(myNewList) # note how after deleting the list, the variable is not defined anymore"
   ]
  },
  {
   "cell_type": "markdown",
   "metadata": {},
   "source": [
    "### Exercise 2.3\n",
    "\n",
    "Create a list - `myClasses` that contains all the classes you have in one week. Include repetitions if you have them. Now remove the 3rd and 4th elements of your list. Remove one English class from your list. Lastly, remove your entire list.\n",
    "\n",
    "\n",
    "สร้างตารางเรียนของคุณ!\n",
    "สร้างรายการชื่อ myClasses เพื่อเก็บชื่อวิชาทั้งหมดของคุณในหนึ่งสัปดาห์\n",
    "\n",
    "รวมวิชาที่เรียนซ้ำด้วยนะ! ถ้าคุณมีวิชาเรียนที่ซ้ำกัน\n",
    "ลบวิชาที่ตำแหน่งที่ 3 และ 4 ออกจากรายการ\n",
    "\n",
    "ลบวิชาภาษาอังกฤษออกจากรายการ\n",
    "\n",
    "ลบรายการ myClasses ออกทั้งหมด\n",
    "\n"
   ]
  },
  {
   "cell_type": "code",
   "execution_count": 1,
   "metadata": {},
   "outputs": [],
   "source": [
    "myClass = [\"match1\",\"match2\",\"match3\",\"english\"]"
   ]
  },
  {
   "cell_type": "code",
   "execution_count": 2,
   "metadata": {},
   "outputs": [
    {
     "data": {
      "text/plain": [
       "'match3'"
      ]
     },
     "execution_count": 2,
     "metadata": {},
     "output_type": "execute_result"
    }
   ],
   "source": [
    "myClass.pop(2)"
   ]
  },
  {
   "cell_type": "code",
   "execution_count": null,
   "metadata": {},
   "outputs": [],
   "source": [
    "myClass.pop(3)"
   ]
  },
  {
   "cell_type": "markdown",
   "metadata": {},
   "source": [
    "We can sort lists in Python in order. We can sort both numerically and alphabetically. \n",
    "\n",
    "เราสามารถเรียงลำดับรายการใน Python ได้ ทั้งเรียงตามตัวเลขและตัวอักษร"
   ]
  },
  {
   "cell_type": "code",
   "execution_count": 39,
   "metadata": {},
   "outputs": [
    {
     "name": "stdout",
     "output_type": "stream",
     "text": [
      "[5, 15, 25, 55]\n"
     ]
    }
   ],
   "source": [
    "myNumbersList = [15, 55, 5, 25]\n",
    "myNumbersList.sort()\n",
    "print(myNumbersList)"
   ]
  },
  {
   "cell_type": "code",
   "execution_count": 40,
   "metadata": {},
   "outputs": [
    {
     "name": "stdout",
     "output_type": "stream",
     "text": [
      "['Amber', 'Jack', 'Peter', 'Tom']\n"
     ]
    }
   ],
   "source": [
    "myNamesList = [\"Tom\", \"Amber\", \"Peter\", \"Jack\"]\n",
    "mySortedNames = sorted(myNamesList) # note the different sorting function here\n",
    "print(mySortedNames)"
   ]
  },
  {
   "cell_type": "code",
   "execution_count": 41,
   "metadata": {},
   "outputs": [
    {
     "data": {
      "text/plain": [
       "[55, 25, 15, 5]"
      ]
     },
     "execution_count": 41,
     "metadata": {},
     "output_type": "execute_result"
    }
   ],
   "source": [
    "sorted(myNumbersList, reverse=True)"
   ]
  },
  {
   "cell_type": "code",
   "execution_count": 43,
   "metadata": {},
   "outputs": [
    {
     "name": "stdout",
     "output_type": "stream",
     "text": [
      "['Tom', 'Peter', 'Jack', 'Amber']\n"
     ]
    }
   ],
   "source": [
    "mySortedNames.sort(reverse=True)\n",
    "print(mySortedNames)"
   ]
  },
  {
   "cell_type": "markdown",
   "metadata": {},
   "source": [
    "### Exercise 2.4\n",
    "\n",
    "Take `BanknotesList = [500, 1000, 20, 100, 50]`. Create a reverse sorted list `mySortedBanknotes`.\n",
    "\n",
    "\n",
    "เรียงธนบัตรกัน!\n",
    "กำหนดรายการ `BanknotesList = [500, 1000, 20, 100, 50]`\n",
    "\n",
    "จากนั้น สร้างรายการใหม่ชื่อ `mySortedBanknotes` ที่เรียงลำดับธนบัตรจากมากไปน้อย (เรียงแบบย้อนกลับ)"
   ]
  },
  {
   "cell_type": "code",
   "execution_count": null,
   "metadata": {},
   "outputs": [],
   "source": []
  },
  {
   "cell_type": "markdown",
   "metadata": {},
   "source": [
    "A very useful function working with lists and many other data types in Python is `.len()` - This function checks the length of your variable, i.e. how many elements your variable contains.\n",
    "\n",
    "ภาษา Python มีฟังก์ชันที่มีประโยชน์มากสำหรับการใช้งานกับรายการและชนิดข้อมูลอื่นๆ นั่นคือ .len() ซึ่งใช้สำหรับตรวจสอบความยาวของตัวแปรของคุณ"
   ]
  },
  {
   "cell_type": "code",
   "execution_count": 46,
   "metadata": {},
   "outputs": [
    {
     "name": "stdout",
     "output_type": "stream",
     "text": [
      "['Tom', 'Amber', 'Peter', 'Jack']\n",
      "4\n"
     ]
    }
   ],
   "source": [
    "print(myNamesList)\n",
    "print(len(myNamesList))"
   ]
  },
  {
   "cell_type": "code",
   "execution_count": 47,
   "metadata": {},
   "outputs": [
    {
     "name": "stdout",
     "output_type": "stream",
     "text": [
      "4\n"
     ]
    }
   ],
   "source": [
    "myName = \"Agne\"\n",
    "print(len(myName)) # you can also use this method for strings!"
   ]
  },
  {
   "cell_type": "markdown",
   "metadata": {},
   "source": [
    "### Dictionaries"
   ]
  },
  {
   "cell_type": "markdown",
   "metadata": {},
   "source": [
    "Dictionaries are used to store data values in key:value pairs.\n",
    "\n",
    "พจนานุกรม (Dictionary) ในภาษา Python คือโครงสร้างข้อมูลที่ใช้สำหรับเก็บข้อมูลแบบ key-value โดย key จะทำหน้าที่เหมือนชื่อเรียกข้อมูล ส่วน value คือข้อมูลจริงที่ต้องการเก็บ พจนานุกรมจัดเก็บข้อมูลแบบไม่เรียงลำดับ\n",
    "\n",
    "A dictionary is a collection which is ordered (since python=3.7), changeable and do not allow duplicates.\n",
    "\n",
    "พจนานุกรม (Dictionary) เป็นคอลเลกชันที่เรียงลำดับ (ข้อมูลภายในไม่มีลำดับที่ตายตัว) ตั้งแต่เวอร์ชัน 3.7 สามารถเปลี่ยนแปลงค่าภายในได้ และไม่อนุญาตให้คีย์ (key) ซ้ำกันภายในพจนานุกรมเดียวกัน"
   ]
  },
  {
   "cell_type": "code",
   "execution_count": 49,
   "metadata": {},
   "outputs": [
    {
     "name": "stdout",
     "output_type": "stream",
     "text": [
      "{'brand': 'Ford', 'model': 'Mustang', 'year': 1964}\n"
     ]
    }
   ],
   "source": [
    "myCarDict = {\n",
    "  \"brand\": \"Ford\",\n",
    "  \"model\": \"Mustang\",\n",
    "  \"year\": 1964\n",
    "}\n",
    "print(myCarDict)"
   ]
  },
  {
   "cell_type": "code",
   "execution_count": 65,
   "metadata": {},
   "outputs": [
    {
     "name": "stdout",
     "output_type": "stream",
     "text": [
      "Mustang\n",
      "Mustang\n"
     ]
    }
   ],
   "source": [
    "#We access dictionary values by using the keys:\n",
    "#การเข้าถึงข้อมูลในพจนานุกรม จะใช้คีย์ (key) เพื่อเรียกข้อมูลที่ต้องการ\n",
    "\n",
    "print(myCarDict[\"model\"])\n",
    "\n",
    "# or like this:\n",
    "print(myCarDict.get(\"model\"))\n"
   ]
  },
  {
   "cell_type": "code",
   "execution_count": 54,
   "metadata": {},
   "outputs": [],
   "source": [
    "# We cannot have duplicate keys in dictionaries:\n",
    "# พจนานุกรม (Dictionary) ไม่สามารถมีคีย์ (key) ที่ซ้ำกันภายในพจนานุกรมเดียวกัน\n",
    "\n",
    "myCarDict = {\n",
    "  \"brand\": \"Ford\",\n",
    "  \"model\": \"Mustang\",\n",
    "  \"year\": 1964,\n",
    "  \"model\": \"Fiesta\"\n",
    "}"
   ]
  },
  {
   "cell_type": "code",
   "execution_count": 55,
   "metadata": {},
   "outputs": [
    {
     "name": "stdout",
     "output_type": "stream",
     "text": [
      "{'brand': 'Ford', 'model': 'Fiesta', 'year': 1964}\n"
     ]
    }
   ],
   "source": [
    "print(myCarDict)\n",
    "# notice how the value just got reassigned"
   ]
  },
  {
   "cell_type": "code",
   "execution_count": 1,
   "metadata": {},
   "outputs": [
    {
     "name": "stdout",
     "output_type": "stream",
     "text": [
      "{'brand': 'Ford', 'model': 'Mustang', 'year': 1964, 'owner': 'Ford'}\n"
     ]
    }
   ],
   "source": [
    "# but we can have duplicate values:\n",
    "myCarDict = {\n",
    "  \"brand\": \"Ford\",\n",
    "  \"model\": \"Mustang\",\n",
    "  \"year\": 1964,\n",
    "  \"owner\": \"Ford\"\n",
    "}\n",
    "print(myCarDict)"
   ]
  },
  {
   "cell_type": "markdown",
   "metadata": {},
   "source": [
    "### Exercise 2.5\n",
    "\n",
    "Create a dictionary `myFamily` that contains your family members names as keys and ages as values.\n",
    "\n",
    "สร้างพจนานุกรม `myFamily` ที่มีชื่อสมาชิกในครอบครัวของคุณเป็นคีย์ และอายุของพวกเขาเป็นค่า"
   ]
  },
  {
   "cell_type": "code",
   "execution_count": null,
   "metadata": {},
   "outputs": [],
   "source": []
  },
  {
   "cell_type": "code",
   "execution_count": 60,
   "metadata": {},
   "outputs": [
    {
     "name": "stdout",
     "output_type": "stream",
     "text": [
      "{'brand': 'Ford', 'model': 'Mustang', 'year': 1964, 'owner': 'Ford', 'count': 1000000}\n"
     ]
    }
   ],
   "source": [
    "# We add new values to a dictionary like so:\n",
    "# ภาษาไทย: เราเพิ่มค่าใหม่ลงในพจนานุกรม\n",
    "\n",
    "myCarDict[\"count\"] = 1000000\n",
    "print(myCarDict)"
   ]
  },
  {
   "cell_type": "code",
   "execution_count": 62,
   "metadata": {},
   "outputs": [
    {
     "name": "stdout",
     "output_type": "stream",
     "text": [
      "{'brand': 'BMW', 'model': 'Mustang', 'year': 1964, 'owner': 'Ford', 'count': 1000000}\n"
     ]
    }
   ],
   "source": [
    "# We can reassign values like this too:\n",
    "# เราสามารถเปลี่ยนค่าในพจนานุกรมได้ด้วยวิธีนี้:\n",
    "\n",
    "myCarDict[\"brand\"] = \"BMW\"\n",
    "print(myCarDict)"
   ]
  },
  {
   "cell_type": "code",
   "execution_count": 67,
   "metadata": {},
   "outputs": [
    {
     "name": "stdout",
     "output_type": "stream",
     "text": [
      "dict_keys(['brand', 'model', 'year', 'owner', 'count'])\n"
     ]
    }
   ],
   "source": [
    "# To access only the keys of the dictionary we can use the method `.keys()`\n",
    "# เพื่อเข้าถึงเฉพาะคีย์ของพจนานุกรม เราสามารถใช้เมธอด `.keys()`\n",
    "\n",
    "print(myCarDict.keys())\n",
    "\n",
    "# Notice that the return type looks very much like a list!\n",
    "# โปรดสังเกตว่าประเภทข้อมูลที่ส่งคืนนั้นดูเหมือนกับรายการมาก!"
   ]
  },
  {
   "cell_type": "code",
   "execution_count": 68,
   "metadata": {},
   "outputs": [
    {
     "name": "stdout",
     "output_type": "stream",
     "text": [
      "dict_values(['BMW', 'Mustang', 1964, 'Ford', 1000000])\n"
     ]
    }
   ],
   "source": [
    "# To access only the values, we can use `.values()`\n",
    "# เพื่อเข้าถึงเฉพาะค่าของพจนานุกรม เราสามารถใช้ .values()\n",
    "\n",
    "print(myCarDict.values())"
   ]
  },
  {
   "cell_type": "markdown",
   "metadata": {},
   "source": [
    "### Exercise 2.6\n",
    "\n",
    "Add your best friend's name and age to your `myFamily` dictionary. Print their age by accessing it through the dictionary key you assigned. \n",
    "\n",
    "เพิ่มชื่อและอายุเพื่อนของคุณใน `myFamily` แสดงผลอายุของพวกเขาผ่านการ print โดยการเข้าถึงผ่าน key "
   ]
  },
  {
   "cell_type": "code",
   "execution_count": null,
   "metadata": {},
   "outputs": [],
   "source": []
  },
  {
   "cell_type": "markdown",
   "metadata": {},
   "source": [
    "You can use the same methods `.pop()` and `.del()` to delete dictionary items. See below.\n",
    "\n",
    "คุณสามารถใช้เมธอด .pop() และ .del() เพื่อลบรายการในพจนานุกรมได้ โปรดดูตัวอย่างด้านล่าง"
   ]
  },
  {
   "cell_type": "code",
   "execution_count": 70,
   "metadata": {},
   "outputs": [
    {
     "name": "stdout",
     "output_type": "stream",
     "text": [
      "{'brand': 'BMW', 'model': 'Mustang', 'year': 1964, 'owner': 'Ford', 'count': 1000000}\n",
      "{'model': 'Mustang', 'year': 1964, 'owner': 'Ford', 'count': 1000000}\n"
     ]
    }
   ],
   "source": [
    "print(myCarDict)\n",
    "myCarDict.pop(\"brand\")\n",
    "print(myCarDict)"
   ]
  },
  {
   "cell_type": "code",
   "execution_count": 71,
   "metadata": {},
   "outputs": [
    {
     "name": "stdout",
     "output_type": "stream",
     "text": [
      "{'model': 'Mustang', 'year': 1964, 'owner': 'Ford', 'count': 1000000}\n",
      "{'year': 1964, 'owner': 'Ford', 'count': 1000000}\n"
     ]
    }
   ],
   "source": [
    "print(myCarDict)\n",
    "del myCarDict[\"model\"]\n",
    "print(myCarDict)"
   ]
  },
  {
   "cell_type": "markdown",
   "metadata": {},
   "source": [
    "### Exercise 2.7 \n",
    "\n",
    "Check how many elements the dictionary `myCarDict` has. HINT: use the length function.\n",
    "\n",
    "\n",
    "ตรวจสอบจำนวนสมาชิกในพจนานุกรม `myCarDict` โดยใช้ฟังก์ชัน len."
   ]
  },
  {
   "cell_type": "code",
   "execution_count": null,
   "metadata": {},
   "outputs": [],
   "source": []
  },
  {
   "cell_type": "markdown",
   "metadata": {},
   "source": [
    "### Tuples"
   ]
  },
  {
   "cell_type": "markdown",
   "metadata": {},
   "source": [
    "Tuples are another way of storing multiple items in a single variable.\n",
    "\n",
    "ทัปเปิล (tuple) เป็นอีกวิธีหนึ่งในการจัดเก็บข้อมูลหลายรายการไว้ในตัวแปรเดียว\n",
    "\n",
    "Unlike lists and dictionaries, tuples cannot be changed!\n",
    "\n",
    "แตกต่างจากรายการ (list) และพจนานุกรม (dictionary) ทัปเปิล (tuple) ไม่สามารถเปลี่ยนแปลงค่าข้อมูลภายในได้!"
   ]
  },
  {
   "cell_type": "code",
   "execution_count": 74,
   "metadata": {},
   "outputs": [],
   "source": [
    "myFruitTuple = (\"apple\", \"banana\", \"strawberry\", \"cherry\", \"durian\", \"lychee\", \"apple\")"
   ]
  },
  {
   "cell_type": "markdown",
   "metadata": {},
   "source": [
    "Tuples can have duplicate values. Notice there are 2 apples in `myFruitTuple`.\n",
    "\n",
    "ทัปเปิล (tuple) สามารถมีค่าที่ซ้ำได้ ตัวอย่างเช่น ทัปเปิล `myFruitTuple` มีแอปเปิล 2 ลูก"
   ]
  },
  {
   "cell_type": "markdown",
   "metadata": {},
   "source": [
    "Tuples are ordered and can be accessed the same as lists - by indexing.\n",
    "\n",
    "\n",
    "ทัปเปิล (tuple) เรียงลำดับข้อมูลภายใน และสามารถเข้าถึงข้อมูลได้เหมือนกับรายการ (list) ด้วยการใช้ดัชนี (index)\n"
   ]
  },
  {
   "cell_type": "markdown",
   "metadata": {},
   "source": [
    "### Exercise 2.8\n",
    "\n",
    "1) Access the element \"strawberry\" from `myFruitTuple`\n",
    "\n",
    "ใช้ดัชนีเข้าถึงข้อมูล \"strawberry\" จากทัปเปิล `myFruitTuple`\n",
    "\n",
    "2) Access the elements \"banana\", \"strawberry\", \"cherry\" and \"durian\" using slicing.\n",
    "\n",
    "ใช้การตัดแบ่ง (slicing) เพื่อเข้าถึงข้อมูล \"banana\", \"strawberry\", \"cherry\" และ \"durian\" จากทัปเปิล `myFruitTuple`"
   ]
  },
  {
   "cell_type": "code",
   "execution_count": null,
   "metadata": {},
   "outputs": [],
   "source": []
  },
  {
   "cell_type": "markdown",
   "metadata": {},
   "source": [
    "### Sets"
   ]
  },
  {
   "cell_type": "markdown",
   "metadata": {},
   "source": [
    "Sets are another way of storing multiple values in one variable in Python.\n",
    "\n",
    "\n",
    "ชุด (set) เป็นอีกวิธีหนึ่งในการจัดเก็บข้อมูลหลายรายการไว้ในตัวแปรเดียวในภาษา Python\n",
    "\n",
    "Sets have no order (unordered), they cannot be changed (immutable) and they do not allow duplicates (unique).\n",
    "\n",
    "ชุด (set) ไม่เรียงลำดับ (unordered), พวกเขาไม่สามารถเปลี่ยนรูปได้ (immutable) และ พวกเขาไม่สามารถยอมรับข้อมูลที่ซ้ำกันได้ (unique)."
   ]
  },
  {
   "cell_type": "code",
   "execution_count": 4,
   "metadata": {},
   "outputs": [],
   "source": [
    "myFruitSet = {\"apple\", \"banana\", \"strawberry\", \"cherry\", \"durian\", \"lychee\"}"
   ]
  },
  {
   "cell_type": "code",
   "execution_count": 80,
   "metadata": {},
   "outputs": [
    {
     "ename": "TypeError",
     "evalue": "'set' object is not subscriptable",
     "output_type": "error",
     "traceback": [
      "\u001b[0;31m---------------------------------------------------------------------------\u001b[0m",
      "\u001b[0;31mTypeError\u001b[0m                                 Traceback (most recent call last)",
      "\u001b[0;32m<ipython-input-80-6ee7452b1ead>\u001b[0m in \u001b[0;36m<module>\u001b[0;34m\u001b[0m\n\u001b[0;32m----> 1\u001b[0;31m \u001b[0mmyFruitSet\u001b[0m\u001b[0;34m[\u001b[0m\u001b[0;36m0\u001b[0m\u001b[0;34m]\u001b[0m\u001b[0;34m\u001b[0m\u001b[0;34m\u001b[0m\u001b[0m\n\u001b[0m",
      "\u001b[0;31mTypeError\u001b[0m: 'set' object is not subscriptable"
     ]
    }
   ],
   "source": [
    "myFruitSet[0] #sets are unordered, so we cannot access its items by indexing!"
   ]
  },
  {
   "cell_type": "markdown",
   "metadata": {},
   "source": [
    "Sets are immutable once created, but we can add new items to the set. To do this, we use the `.add()` method.\n",
    "\n",
    "\n",
    "ชุด (set) ใน Python สร้างเสร็จแล้วไม่สามารถเปลี่ยนแปลงค่าภายในได้ แต่เราสามารถเพิ่มไอเท็มใหม่เข้าไปในชุดได้ โดยใช้เมธอด `.add()`"
   ]
  },
  {
   "cell_type": "markdown",
   "metadata": {},
   "source": [
    "### Exercise 2.9\n",
    "\n",
    "Add a new fruit to your set `myFruitSet`. Notice that it may not be the last item in your set - sets are not ordered!\n",
    "\n",
    "เพิ่มข้อมูลผลไม้ใหม่เข้าไปที่ตัวแปร `myFruitSet` โปรดทราบไว้ว่า มันอาจจะไม่เป็นตัวสุดท้ายใน myFruitSet ตอนที่ผู้ใช้งาน set - set มันจะไม่มีการเรียงลำดับ !"
   ]
  },
  {
   "cell_type": "code",
   "execution_count": null,
   "metadata": {},
   "outputs": [],
   "source": []
  },
  {
   "cell_type": "markdown",
   "metadata": {},
   "source": [
    "A useful property of sets is that they are unique, i.e. no duplicate elements are allowed. Sometimes when we want to know how many unique items are in a list, we change the type of the list to set and query the set to know how many unique elements we have.\n",
    "\n",
    "\n",
    "คุณสมบัติที่เป็นประโยชน์ของ ชุด (set) คือ ความไม่ซ้ำกันของข้อมูลภายในชุด เช่น element ไม่ยอมให้มีการซ้ำกันของข้อมูล บางครั้ง หากเราต้องการรู้จำนวนข้อมูลที่ไม่ซ้ำกันในรายการ (list) เราสามารถเปลี่ยนประเภทของ รายการ(list) เป็นชุด (set) ได้ และจากนั้นค้นหาจำนวนสมาชิกในชุดเพื่อดูจำนวนข้อมูลที่ไม่ซ้ำกัน"
   ]
  },
  {
   "cell_type": "markdown",
   "metadata": {},
   "source": [
    "### Exercise 2.10\n",
    "\n",
    "Consider a list `myStudents = [\"Tom\", \"Mark\", \"Tom\", \"James\", \"Sarah\", \"Anne\", \"James\", \"Sarah\", \"Peter\", \"Mark\"]`. Use the method described above to find out how many unique names I have in my class.\n",
    "\n",
    "\n",
    "พิจารณา ในรายการ `myStudents = [\"Tom\", \"Mark\", \"Tom\", \"James\", \"Sarah\", \"Anne\", \"James\", \"Sarah\", \"Peter\", \"Mark\"]`. ใช้วิธีข้างต้นที่อธิบายไปในการหาจำนวนชื่อที่ไม่ซำ้กันในชั้นเรียน"
   ]
  },
  {
   "cell_type": "code",
   "execution_count": 3,
   "metadata": {},
   "outputs": [
    {
     "name": "stdout",
     "output_type": "stream",
     "text": [
      "6\n"
     ]
    }
   ],
   "source": [
    "myStudents = [\"Tom\", \"Mark\", \"Tom\", \"James\", \"Sarah\", \"Anne\", \"James\", \"Sarah\", \"Peter\", \"Mark\"]\n",
    "print(len(set(myStudents)))"
   ]
  }
 ],
 "metadata": {
  "kernelspec": {
   "display_name": "python_course",
   "language": "python",
   "name": "python3"
  },
  "language_info": {
   "codemirror_mode": {
    "name": "ipython",
    "version": 3
   },
   "file_extension": ".py",
   "mimetype": "text/x-python",
   "name": "python",
   "nbconvert_exporter": "python",
   "pygments_lexer": "ipython3",
   "version": "3.11.7"
  }
 },
 "nbformat": 4,
 "nbformat_minor": 2
}
