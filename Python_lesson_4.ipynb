{
 "cells": [
  {
   "cell_type": "markdown",
   "metadata": {},
   "source": [
    "# Python Lesson 4"
   ]
  },
  {
   "cell_type": "markdown",
   "metadata": {},
   "source": [
    "### Recap\n",
    "\n",
    "<!-- if else-->\n",
    "1) If you want to check whether something meets a condition (e.g. whether the variable `age` is greater than 18) and show \"You can do it\" if it does, what type of code would you use to proceed?\n",
    "\n",
    "    ถ้าคุณต้องการใช้การตรวจสอบเพื่อให้เข้าเงื่อนไข เช่น ถ้า age มากกว่า 18 ให้แสดง \"You can do it\" ควรใช้อะไรในการดำเนินการ ?\n",
    "\n",
    "<!-- and -->\n",
    "2) Which logical operator returns `True` if both conditions are true ?\n",
    "\n",
    "    การดำเนินการแบบใดที่สามารถคืนค่าเป็นจริง ถ้าทั้งสองเงื่อนไขเป็นจริง ?\n",
    "\n",
    "<!-- for loop -->\n",
    "3) If you want to search for the letter \"a\" in a name from the following list: [\"Alice\", \"Bob\", \"Charlie\"], how would you do it?\n",
    "\n",
    "    ถ้าต้องการค้นหาชื่อใน name = [\"Alice\", \"Bob\", \"Charlie\"] ควรใช้อะไรในการค้นหาข้อมูล ?"
   ]
  },
  {
   "cell_type": "markdown",
   "metadata": {},
   "source": [
    "### Introduction to functions"
   ]
  },
  {
   "cell_type": "markdown",
   "metadata": {},
   "source": [
    "A function is a block of code which runs only when its called.\n",
    "The idea is to put some commonly or repeatedly done tasks together and make a function so that instead of writing the same code again and again for different inputs, we can do the function calls to reuse the code contained in it.\n",
    "\n",
    "ฟังก์ชันคือบล็อกหนึ่งบล็อกของโค้ดที่ทำงานเฉพาะเมื่อมีการเรียกใช้งาน แนวคิดคืองานบางอย่างที่ทำงานกันทั่วไปหรือทำงานร่วมกันซ้ำ ๆ และสร้างฟังก์ชันแทนที่จะเขียนโค้ดเดิมซ้ำ ๆ และการใส่ข้อมูลที่แตกต่างกัน สามารถเรียกใช้งานฟังก์ชันเพื่อนำโค้ดที่อยู่ในนั้นกลับมาใช้ใหม่ได้อีกครั้ง"
   ]
  },
  {
   "cell_type": "code",
   "execution_count": 13,
   "metadata": {},
   "outputs": [],
   "source": [
    "# Examples function \n",
    "def greet():\n",
    "    print(\"Hello!\")"
   ]
  },
  {
   "cell_type": "code",
   "execution_count": null,
   "metadata": {},
   "outputs": [],
   "source": [
    "# Examples function\n",
    "def add_numbers(x, y):\n",
    "    return x + y"
   ]
  },
  {
   "cell_type": "code",
   "execution_count": 2,
   "metadata": {},
   "outputs": [],
   "source": [
    "# Examples function\n",
    "def check_even_odd(n):\n",
    "    if n % 2 == 0:\n",
    "        return \"even\"\n",
    "    else:\n",
    "        return \"odd\""
   ]
  },
  {
   "cell_type": "markdown",
   "metadata": {},
   "source": [
    "### Function Declaration"
   ]
  },
  {
   "cell_type": "markdown",
   "metadata": {},
   "source": [
    "Keyword is \"def\".\n",
    "คีย์เวิร์ด คือ \"def\"\n",
    "\n",
    "\n",
    "Funtion name is the identifier given to the function, such as \"add_numbers\" or \"check_even_odd\".\n",
    "ชื่อฟังก์ชันเป็นการระบุตัวตนของฟังก์ชัน เช่น การประกาศชื่อ \"add_numbers\" หรือ \"check_even_odd\"\n",
    "\n",
    "Parameter is the input variables that the function receives, enclosed in parentheses, such as \"(x, y)\".\n",
    "พารามิเตอร์คือตัวแปรอินพุตที่ฟังก์ชันได้รับ ซึ่งจะอยู่ในวงเล็บ เช่น \"(x, y)\"\n",
    "\n",
    "Body of Statement is the block of code that defines what the function does, indented after the function declaration line.\n",
    "ส่วนของคำสั่งคือบล็อกของโค้ดจะประกาศว่าจะทำอะไรในฟังก์ชัน โดยทั่วไป (การเขียนโค้ดในฟังก์ชัน) จะเยื้องหลังบรรทัดประกาศฟังก์ชัน\n",
    "\n",
    "Function return is a keyword indicating the value the function outputs.\n",
    "การคืนค่าของฟังก์ชัน คือ คีย์เวิร์ดที่ระบุค่าของฟังก์ชันส่งออก"
   ]
  },
  {
   "cell_type": "code",
   "execution_count": 1,
   "metadata": {},
   "outputs": [],
   "source": [
    "# Reference image: https://www.geeksforgeeks.org/insert-image-in-a-jupyter-notebook/"
   ]
  },
  {
   "cell_type": "markdown",
   "metadata": {},
   "source": [
    "<img alt=\"Python Functions\" height=\"inherit\" src=\"https://media.geeksforgeeks.org/wp-content/uploads/20220721172423/51.png\" width=\"inherit\">"
   ]
  },
  {
   "cell_type": "code",
   "execution_count": 11,
   "metadata": {},
   "outputs": [],
   "source": [
    "# Function Declaration\n",
    "def greet(name):\n",
    "    # Body of statement\n",
    "    value = \"Hello \" + name\n",
    "    return value"
   ]
  },
  {
   "cell_type": "markdown",
   "metadata": {},
   "source": [
    "### Exercise 1.1.\n",
    "\n",
    "Create a function that `print`s your name in the body of the statement and set `callName` as the name of the function.\n",
    "\n",
    "สร้างฟังก์ชันที่ `print` ชื่อของคุณใน body of statement โดยตั้งชื่อ function ว่า `callName`"
   ]
  },
  {
   "cell_type": "code",
   "execution_count": 1,
   "metadata": {},
   "outputs": [],
   "source": [
    "# Input your answer.\n"
   ]
  },
  {
   "cell_type": "markdown",
   "metadata": {},
   "source": [
    "### Exercise 1.2.\n",
    "\n",
    "Create a function named `checkAge` that checks your age. If it is greater than 18, print \"You can see.\" and if it doesn't meet the condition, print \"You can't see\".\n",
    "\n",
    "สร้างฟังก์ชันชื่อ `checkAge` ที่ตรวจสอบ age ของคุณ ถ้ามันมากกว่า 18 ให้พิมพ์คำว่า \"You can see.\" และถ้าไม่เข้าเงื่อนไขให้พิมพ์ว่า \"You can't see.\""
   ]
  },
  {
   "cell_type": "code",
   "execution_count": null,
   "metadata": {},
   "outputs": [],
   "source": [
    "# Input your answer.\n"
   ]
  },
  {
   "cell_type": "markdown",
   "metadata": {},
   "source": [
    "### Call function"
   ]
  },
  {
   "cell_type": "markdown",
   "metadata": {},
   "source": [
    "When you call a function, use the function name followed by the parentheses:\n",
    "\n",
    "ในการเรียกใช้งานฟังก์ชัน เรียก `ชื่อฟังก์ชัน` ที่ต้องการ ติดตามการใช้งานผ่านรูปแบบนี้"
   ]
  },
  {
   "cell_type": "code",
   "execution_count": 5,
   "metadata": {},
   "outputs": [
    {
     "name": "stdout",
     "output_type": "stream",
     "text": [
      "Neng\n"
     ]
    }
   ],
   "source": [
    "sayHello()"
   ]
  },
  {
   "cell_type": "markdown",
   "metadata": {},
   "source": [
    "### Exercise 1.3.\n",
    "\n",
    "Call the function `callName` in exercise 1.1.\n",
    "\n",
    "เรียกฟังก์ชัน `callName` ในแบบฝึกหัด 1.1. "
   ]
  },
  {
   "cell_type": "code",
   "execution_count": 2,
   "metadata": {},
   "outputs": [],
   "source": [
    "# Input your answer."
   ]
  },
  {
   "cell_type": "markdown",
   "metadata": {},
   "source": [
    "### Exercise 1.4.\n",
    "\n",
    "Create a function called sayHello with the body statement to display the word \"Hello World!\" Then, call the sayHello function.\n",
    "\n",
    "สร้างฟังก์ชันชื่อว่า `sayHello` โดยใน Body of statement ให้แสดงคำว่า \"Hello Word!\" จากนั้นเรียกใช้ฟังก์ชัน `sayHello`"
   ]
  },
  {
   "cell_type": "code",
   "execution_count": 1,
   "metadata": {},
   "outputs": [],
   "source": [
    "# Input your answer.\n"
   ]
  },
  {
   "cell_type": "markdown",
   "metadata": {},
   "source": [
    "### Arguments"
   ]
  },
  {
   "cell_type": "markdown",
   "metadata": {},
   "source": [
    "Information can be send into the function as arguments.\n",
    "Arguments are specified after the function name you call, inside the parentheses. You can add many arguments, just separate them with a comma.\n",
    "\n",
    "ข้อมูลสามารถส่งไปยังฟังก์ชันได้ โดย `อาร์กิวเมนต์` อาร์กิวเมนต์ระบุหลังชื่อฟังก์ชันที่คุณเรียกใช้ในวงเล็บ \n",
    "คุณสามารถเพิ่มอาร์กิวเมนต์ได้หลายตัว เพียงแค่ต้องแยกพวกอาร์กิวเมนต์ ผ่านลูกน้ำ\n"
   ]
  },
  {
   "cell_type": "code",
   "execution_count": 4,
   "metadata": {},
   "outputs": [
    {
     "name": "stdout",
     "output_type": "stream",
     "text": [
      "Say: Hi\n",
      "Say: Hello, World\n"
     ]
    }
   ],
   "source": [
    "def print_with_prefix(text):\n",
    "    print(\"Say:\", text)\n",
    "\n",
    "# Example pass argument after the function name your call.  \n",
    "print_with_prefix(\"Hi\")\n",
    "print_with_prefix(\"Hello, World\")"
   ]
  },
  {
   "cell_type": "markdown",
   "metadata": {},
   "source": [
    "You cannot pass multiple arguments if the number of parameters is not equal to the number of arguments.\n",
    "\n",
    "คุณไม่สามารถส่งอาร์กิวเมนต์หลายตัวได้ โดยที่พารามิเตอร์ไม่เท่ากับอาร์กิวเมนต์"
   ]
  },
  {
   "cell_type": "code",
   "execution_count": 7,
   "metadata": {},
   "outputs": [
    {
     "ename": "TypeError",
     "evalue": "print_with_prefix() takes 1 positional argument but 2 were given",
     "output_type": "error",
     "traceback": [
      "\u001b[0;31m---------------------------------------------------------------------------\u001b[0m",
      "\u001b[0;31mTypeError\u001b[0m                                 Traceback (most recent call last)",
      "Cell \u001b[0;32mIn[7], line 1\u001b[0m\n\u001b[0;32m----> 1\u001b[0m print_with_prefix(\u001b[38;5;124m\"\u001b[39m\u001b[38;5;124mHi\u001b[39m\u001b[38;5;124m\"\u001b[39m, \u001b[38;5;124m\"\u001b[39m\u001b[38;5;124mHello, World\u001b[39m\u001b[38;5;124m\"\u001b[39m)\n",
      "\u001b[0;31mTypeError\u001b[0m: print_with_prefix() takes 1 positional argument but 2 were given"
     ]
    }
   ],
   "source": [
    "print_with_prefix(\"Hi\", \"Hello, World\")"
   ]
  },
  {
   "cell_type": "markdown",
   "metadata": {},
   "source": [
    "Make sure the arguments and parameters are the same."
   ]
  },
  {
   "cell_type": "code",
   "execution_count": 5,
   "metadata": {},
   "outputs": [
    {
     "name": "stdout",
     "output_type": "stream",
     "text": [
      "John Doe\n"
     ]
    }
   ],
   "source": [
    "# Example\n",
    "def fullName(firstname, lastname):\n",
    "    print(firstname + \" \" + lastname)\n",
    "\n",
    "fullName(\"John\", \"Doe\")"
   ]
  },
  {
   "cell_type": "code",
   "execution_count": 6,
   "metadata": {},
   "outputs": [
    {
     "name": "stdout",
     "output_type": "stream",
     "text": [
      "1\n",
      "2\n",
      "3\n",
      "4\n",
      "5\n"
     ]
    }
   ],
   "source": [
    "# Example\n",
    "def print_all_elements(input_list):\n",
    "    for item in input_list:\n",
    "        print(item)\n",
    "\n",
    "# ตัวอย่างการใช้งานฟังก์ชัน\n",
    "numbers = [1, 2, 3, 4, 5]\n",
    "print_all_elements(numbers)"
   ]
  },
  {
   "cell_type": "code",
   "execution_count": 7,
   "metadata": {},
   "outputs": [
    {
     "name": "stdout",
     "output_type": "stream",
     "text": [
      "a: 1\n",
      "b: 2\n",
      "c: 3\n"
     ]
    }
   ],
   "source": [
    "# Example usage of the function\n",
    "def print_all_elements_dict(input_dict):\n",
    "    for key, value in input_dict.items():\n",
    "        print(f\"{key}: {value}\")\n",
    "\n",
    "my_dictionary = {'a': 1, 'b': 2, 'c': 3}\n",
    "print_all_elements_dict(my_dictionary)"
   ]
  },
  {
   "cell_type": "markdown",
   "metadata": {},
   "source": [
    "### Exercise 1.5.\n",
    "\n",
    "Call the function `print_with_prefix` and pass your name as an argument.\n",
    "\n",
    "เรียกใช้งานฟังก์ชัน `print_with_prefix` และใส่อาร์กิวเมนต์เป็นชื่อของคุณ"
   ]
  },
  {
   "cell_type": "code",
   "execution_count": 3,
   "metadata": {},
   "outputs": [],
   "source": [
    "# Input your answer.\n"
   ]
  },
  {
   "cell_type": "markdown",
   "metadata": {},
   "source": [
    "### Exercise 1.6.\n",
    "\n",
    "Create a function named \"subtractNumbers\", then declare variables x = 5, y = 2, and send them to the function \"subtractNumbers\". Finally, display the result of the operation on the screen.\n",
    "\n",
    "สร้างฟังก์ชันชื่อว่า \"subtractNumbers\" จากนั้นประกาศตัวแปร x = 5, y = 2 แล้วส่งไปที่ฟังก์ชัน \"subtractNumbers\" แล้วแสดงผลลัพธ์ของการดำเนินการออกมาทางหน้าจอ"
   ]
  },
  {
   "cell_type": "code",
   "execution_count": 2,
   "metadata": {},
   "outputs": [],
   "source": [
    "# Input your answer.\n"
   ]
  },
  {
   "cell_type": "markdown",
   "metadata": {},
   "source": [
    "## Parameter"
   ]
  },
  {
   "cell_type": "markdown",
   "metadata": {},
   "source": [
    "Parameter is a variable listed inside the parameter parentheses in the function.\n",
    "\n",
    "พารามิเตอร์เป็นตัวแปรที่อยู่ในวงเล็บของฟังก์ชัน"
   ]
  },
  {
   "cell_type": "code",
   "execution_count": null,
   "metadata": {},
   "outputs": [],
   "source": [
    "# Example\n",
    "def setName(nickname): # nickname is a variable shown in the parentheses of this function.\n",
    "    print(\"My nickname is\",nickname)"
   ]
  },
  {
   "cell_type": "code",
   "execution_count": 26,
   "metadata": {},
   "outputs": [
    {
     "name": "stdout",
     "output_type": "stream",
     "text": [
      "Hello, Alice\n"
     ]
    }
   ],
   "source": [
    "# Single parameter:\n",
    "def greet(name):\n",
    "    print(\"Hello,\", name)\n",
    "\n",
    "greet(\"Alice\")"
   ]
  },
  {
   "cell_type": "code",
   "execution_count": 33,
   "metadata": {},
   "outputs": [
    {
     "name": "stdout",
     "output_type": "stream",
     "text": [
      "8\n"
     ]
    }
   ],
   "source": [
    "# Multiple parameters:\n",
    "def add(x, y):\n",
    "    return x + y\n",
    "\n",
    "result = add(3, 5)\n",
    "print(result)"
   ]
  },
  {
   "cell_type": "code",
   "execution_count": 28,
   "metadata": {},
   "outputs": [
    {
     "name": "stdout",
     "output_type": "stream",
     "text": [
      "Hello, there\n",
      "Hello, Bob\n"
     ]
    }
   ],
   "source": [
    "# Default parameter value:\n",
    "def greet(name=\"there\"):\n",
    "    print(\"Hello,\", name)\n",
    "\n",
    "greet()\n",
    "greet(\"Bob\")"
   ]
  },
  {
   "cell_type": "code",
   "execution_count": 9,
   "metadata": {},
   "outputs": [
    {
     "name": "stdout",
     "output_type": "stream",
     "text": [
      "Charlie\n"
     ]
    }
   ],
   "source": [
    "''' \n",
    "Variable number of parameters (arbitrary arguments):\n",
    "\n",
    "If you do not know how many arguments you'll have, add \"*\" before the parameter name.\n",
    "This way the function will receive a tuple of arguments.\n",
    "\n",
    "ถ้าคุณไม่รู้จำนวนของอาร์กิวเมนต์ที่แน่นอน เพิ่ม '*' ก่อนหน้าชื่อพารามิเตอร์ได้\n",
    "โดยที่ฟังก์ชันจะรับเป็น turple ของอาร์กิวเมนต์\n",
    "\n",
    "'''\n",
    "\n",
    "def print_names(*names):\n",
    "    print(names[2])\n",
    "\n",
    "print_names(\"Alice\", \"Bob\", \"Charlie\")"
   ]
  },
  {
   "cell_type": "code",
   "execution_count": 37,
   "metadata": {},
   "outputs": [
    {
     "name": "stdout",
     "output_type": "stream",
     "text": [
      "Hi Alice\n"
     ]
    }
   ],
   "source": [
    "# Keyword arguments:\n",
    "def greet(greeting, name):\n",
    "    print(greeting, name)\n",
    "\n",
    "greet(greeting=\"Hi\", name=\"Alice\")\n"
   ]
  },
  {
   "cell_type": "markdown",
   "metadata": {},
   "source": [
    "### Exercise 1.7.\n",
    "\n"
   ]
  },
  {
   "cell_type": "markdown",
   "metadata": {},
   "source": [
    "Write a Python function named `count_characters` that takes a string as a parameter and prints the total number of characters in the string.\n",
    "\n",
    "เขียนฟังก์ชัน Python ที่ชื่อ `count_characters` ที่รับสตริงเป็นพารามิเตอร์ และแสดงจำนวนตัวอักษรทั้งหมดในสตริง"
   ]
  },
  {
   "cell_type": "code",
   "execution_count": 4,
   "metadata": {},
   "outputs": [],
   "source": [
    "# Input your answer."
   ]
  },
  {
   "cell_type": "markdown",
   "metadata": {},
   "source": [
    "### Exercise 1.8.\n",
    "\n",
    "Please create a function called `shownames`, then send the list `names = [\"Jo\", \"Bob\", \"Jane\"]` to the function. Use a `for loop` to print out the names of everyone.\n",
    "\n",
    "ให้ทำการสร้างฟังก์ชันชื่อว่า `shownames` จากนั้นส่ง `names = [\"Jo\", \"Bob\", \"Jane\"]` ไปที่ฟังก์ชันแล้ว ใช้ `for loop` พิมพ์ชื่อทุกคนออกมา\n"
   ]
  },
  {
   "cell_type": "code",
   "execution_count": 4,
   "metadata": {},
   "outputs": [],
   "source": [
    "# Input your answer.\n"
   ]
  },
  {
   "cell_type": "markdown",
   "metadata": {},
   "source": [
    "### Return"
   ]
  },
  {
   "cell_type": "markdown",
   "metadata": {},
   "source": [
    "In Python, `return` is a keyword used in functions to send back a value (return value) after the function has completed its execution. It is used to terminate the function and send the result back to the part of the program that called the function.\n",
    "\n",
    "ในไพทอน `return` เป็นคีย์เวิร์ดใช้ส่งค่ากลับ หลังจากที่ฟังก์ชันดำเนินการเสร็จแล้ว มันถูกใช้เพื่อหยุดการทำงานของฟังก์ชัน และส่งผลลัพธ์กลับไปที่โปรแกรมที่เรียกฟังก์ชันนั้น"
   ]
  },
  {
   "cell_type": "code",
   "execution_count": 36,
   "metadata": {},
   "outputs": [
    {
     "data": {
      "text/plain": [
       "15"
      ]
     },
     "execution_count": 36,
     "metadata": {},
     "output_type": "execute_result"
    }
   ],
   "source": [
    "''' \n",
    "Example \n",
    "\n",
    "The function \"calculate_sum\" is called with the arguments 10 and 5 passed into it. \n",
    "These values are sent to the function \"calculate_sum\" with 2 parameters to receive them. \n",
    "Inside the body of the statement, the operation c = a + b is performed. \n",
    "After the operation is completed, the function returns the value of c back to the caller.\n",
    "\n",
    "มีการเรียกใช้งานฟังก์ชัน \"calculate_sum\" โดยมีอาร์กิวเมนต์ 10 และ 5\n",
    "ส่งค่าไปยังฟังก์ชัน \"calculate_sum\" โดยมีพารามิเตอร์ 2 ตัวแปร \n",
    "ใน body of statement มีการทำงาน c = a + b หลังจากสิ้นสุดการดำเนินการ\n",
    "จะคืนค่า c กลับไปยังในส่วนที่เรียกใช้งาน\n",
    "'''\n",
    "\n",
    "def calculate_sum(a,b):\n",
    "    c = a + b\n",
    "    return c\n",
    "\n",
    "calculate_sum(10,5)"
   ]
  },
  {
   "cell_type": "markdown",
   "metadata": {},
   "source": [
    "Example \"return\""
   ]
  },
  {
   "cell_type": "code",
   "execution_count": 10,
   "metadata": {},
   "outputs": [
    {
     "name": "stdout",
     "output_type": "stream",
     "text": [
      "Sum: 8\n"
     ]
    }
   ],
   "source": [
    "# Addition Function\n",
    "def add_numbers(x, y):\n",
    "    # Calculate the sum of two numbers\n",
    "    result = x + y\n",
    "    # Return the sum\n",
    "    return result\n",
    "\n",
    "# Call the function and store the returned value\n",
    "sum_result = add_numbers(3, 5)\n",
    "\n",
    "# Print the result\n",
    "print(\"Sum:\", sum_result)"
   ]
  },
  {
   "cell_type": "code",
   "execution_count": 11,
   "metadata": {},
   "outputs": [
    {
     "name": "stdout",
     "output_type": "stream",
     "text": [
      "Square: 16\n"
     ]
    }
   ],
   "source": [
    "# Square Function:\n",
    "def square_number(x):\n",
    "    # Calculate the square of a number\n",
    "    result = x * x\n",
    "    # Return the square\n",
    "    return result\n",
    "\n",
    "# Call the function and store the returned value\n",
    "square_result = square_number(4)\n",
    "\n",
    "# Print the result\n",
    "print(\"Square:\", square_result)"
   ]
  },
  {
   "cell_type": "code",
   "execution_count": 12,
   "metadata": {},
   "outputs": [
    {
     "name": "stdout",
     "output_type": "stream",
     "text": [
      "Hello, Alice!\n"
     ]
    }
   ],
   "source": [
    "# Greeting Function:\n",
    "def greet(name):\n",
    "    # Create a greeting message\n",
    "    message = \"Hello, \" + name + \"!\"\n",
    "    # Return the greeting message\n",
    "    return message\n",
    "\n",
    "# Call the function and store the returned value\n",
    "greeting = greet(\"Alice\")\n",
    "\n",
    "# Print the greeting message\n",
    "print(greeting)"
   ]
  },
  {
   "cell_type": "markdown",
   "metadata": {},
   "source": [
    "### Exercise 1.9"
   ]
  },
  {
   "cell_type": "markdown",
   "metadata": {},
   "source": [
    "Create a function `divide_numbers` that takes two values from the arguments, x and y. Then, divide x by y and return the value.\n",
    "\n",
    "สร้าง function `divide_numbers` รับค่าจาก argument 2 ค่า x และ y \n",
    "จากนั้นดำเนินการหาร x ด้วย y คืนค่ากลับไป"
   ]
  },
  {
   "cell_type": "code",
   "execution_count": 5,
   "metadata": {},
   "outputs": [],
   "source": [
    "# Input your answer."
   ]
  },
  {
   "cell_type": "markdown",
   "metadata": {},
   "source": [
    "### Exercise 1.10\n",
    "\n",
    "Create a function named evenNumbers and send numbers = [10,11,12,13,14,15,16,17,18,19,20] to the evenNumbers function. Then, use a for loop to search for even numbers from the body of the statement. After that, store the even numbers in evennumbers = [], return the values, and display all the numbers.\n",
    "\n",
    "สร้าง function ชื่อว่า `evenNumbers` แล้วส่ง `numbers = [10,11,12,13,14,15,16,17,18,19,20]` ไปที่ฟังก์ชัน `evenNumbers` โดยใช้ `for loop` ในการค้นหาเลขคู่จาก body of statement จากนั้นให้ทำการเก็บตัวเลขที่เป็นเลขคู่ใส่ `evennumbers = []` แล้วคืนค่าและพร้อมแสดงตัวเลขออกมาทั้งหมด"
   ]
  },
  {
   "cell_type": "code",
   "execution_count": 6,
   "metadata": {},
   "outputs": [],
   "source": [
    "# Input your answer.\n"
   ]
  },
  {
   "cell_type": "markdown",
   "metadata": {},
   "source": [
    "### Reference"
   ]
  },
  {
   "cell_type": "markdown",
   "metadata": {},
   "source": [
    "###### https://www.w3schools.com/python/python_functions.asp\n",
    "\n",
    "###### https://www.geeksforgeeks.org/insert-image-in-a-jupyter-notebook"
   ]
  }
 ],
 "metadata": {
  "kernelspec": {
   "display_name": "python_course",
   "language": "python",
   "name": "python3"
  },
  "language_info": {
   "codemirror_mode": {
    "name": "ipython",
    "version": 3
   },
   "file_extension": ".py",
   "mimetype": "text/x-python",
   "name": "python",
   "nbconvert_exporter": "python",
   "pygments_lexer": "ipython3",
   "version": "3.11.7"
  }
 },
 "nbformat": 4,
 "nbformat_minor": 2
}
