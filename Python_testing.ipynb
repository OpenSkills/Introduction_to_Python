{
 "cells": [
  {
   "cell_type": "code",
   "execution_count": 8,
   "metadata": {},
   "outputs": [
    {
     "name": "stdout",
     "output_type": "stream",
     "text": [
      "Hi\n"
     ]
    }
   ],
   "source": [
    "# Insert your answer here!\n",
    "volunteers_countries = {\"UK\": [\"Tom\", \"James\"], \"USA\": [\"Mark\", \"Peter\"], \"Australia\": [\"Jane\", \"Sarah\"]}\n",
    "\n",
    "if \"UK\" not in volunteers_countries:\n",
    "    print(\"I don't have a volunteer from Thailand\")\n",
    "else :\n",
    "    print(\"Hi\")"
   ]
  },
  {
   "cell_type": "markdown",
   "metadata": {},
   "source": [
    "## Testing"
   ]
  },
  {
   "cell_type": "code",
   "execution_count": 4,
   "metadata": {},
   "outputs": [
    {
     "name": "stdout",
     "output_type": "stream",
     "text": [
      "Jo is in the variable names\n"
     ]
    }
   ],
   "source": [
    "names = [\"Bob\",\"Jane\",\"Jo\",\"Pep\"]\n",
    "for Jo in names :\n",
    "    print(\"Jo is in the variable names\")\n",
    "    break"
   ]
  },
  {
   "cell_type": "markdown",
   "metadata": {},
   "source": [
    "#### Lesson 1"
   ]
  },
  {
   "cell_type": "markdown",
   "metadata": {},
   "source": [
    "print"
   ]
  },
  {
   "cell_type": "markdown",
   "metadata": {},
   "source": [
    "1.1 print \"Hello World!\" to console.\n",
    "\n",
    "1.1 พิมพ์คำว่า \"Hello World!\" ลงบนคอนโซล"
   ]
  },
  {
   "cell_type": "code",
   "execution_count": 26,
   "metadata": {},
   "outputs": [],
   "source": [
    "# Insert your answer here!"
   ]
  },
  {
   "cell_type": "markdown",
   "metadata": {},
   "source": [
    "1.2 print your first and last name to console.\n",
    "\n",
    "1.2 พิมพ์ชื่อและนามสกุลของตัวเองลงบนคอนโซล"
   ]
  },
  {
   "cell_type": "code",
   "execution_count": 25,
   "metadata": {},
   "outputs": [],
   "source": [
    "# Insert your answer here!"
   ]
  },
  {
   "cell_type": "markdown",
   "metadata": {},
   "source": [
    "comment"
   ]
  },
  {
   "cell_type": "markdown",
   "metadata": {},
   "source": [
    "1.3 Please comment the code print \"Hello World!\".\n",
    "\n",
    "1.3 โปรดเพิ่ม comment ในโค้ด print \"Hello World!\""
   ]
  },
  {
   "cell_type": "code",
   "execution_count": 24,
   "metadata": {},
   "outputs": [
    {
     "name": "stdout",
     "output_type": "stream",
     "text": [
      "Hello World!\n"
     ]
    }
   ],
   "source": [
    "# Insert your answer here!\n",
    "print(\"Hello World!\")"
   ]
  },
  {
   "cell_type": "markdown",
   "metadata": {},
   "source": [
    "multiple comment"
   ]
  },
  {
   "cell_type": "markdown",
   "metadata": {},
   "source": [
    "1.4 Comment out all code of name function `callName`.\n",
    "\n",
    "1.4 ให้ทำการคอมเมนต์โค้ดทั้งหมดของฟังก์ชันที่ชื่อว่า `callName`"
   ]
  },
  {
   "cell_type": "code",
   "execution_count": 23,
   "metadata": {},
   "outputs": [],
   "source": [
    "# Insert your answer here!\n",
    "\n",
    "def callName(name):\n",
    "    print(\"Hello \"+name)"
   ]
  },
  {
   "cell_type": "markdown",
   "metadata": {},
   "source": [
    "variable"
   ]
  },
  {
   "cell_type": "markdown",
   "metadata": {},
   "source": [
    "1.5 Declare a variable named number storing the value of 10, and display the number.\n",
    "\n",
    "1.5 ประกาศตัวแปรที่มีชื่อว่า `number` โดยเก็บค่าเป็น 10 พร้อมกับแสดงจำนวนตัวเลขออกมา"
   ]
  },
  {
   "cell_type": "code",
   "execution_count": 22,
   "metadata": {},
   "outputs": [],
   "source": [
    "# Insert your answer here!"
   ]
  },
  {
   "cell_type": "markdown",
   "metadata": {},
   "source": [
    "data type"
   ]
  },
  {
   "cell_type": "markdown",
   "metadata": {},
   "source": [
    "1.6 convert the variable `number` from 1.5 to a string data type and check its type.\n",
    "\n",
    "1.6 ให้ทำการนำ `number` 1.5 มาแปลงเป็นชนิดข้อมูล string พร้อมกับตรวจสอบ type"
   ]
  },
  {
   "cell_type": "code",
   "execution_count": 21,
   "metadata": {},
   "outputs": [],
   "source": [
    "# Insert your answer here!"
   ]
  },
  {
   "cell_type": "markdown",
   "metadata": {},
   "source": [
    "operator"
   ]
  },
  {
   "cell_type": "markdown",
   "metadata": {},
   "source": [
    "1.7. Perform addition, subtraction, multiplication, division, and modulus operations with variables x as 10 and y as 5. The problem requires the following answers from the operations: x plus y, x minus y, x multiplied by y, x divided by y, x modulo y and display the results.\n",
    "\n",
    "1.7 ให้ทำการ บวก ลบ คูณ หาร mod โดยประกาศตัวแปร x เป็น 10 และ y เป็น 5 โจทย์ต้องการคำตอบดังนี้จากดำเนินการ\n",
    "x บวก y, x ลบ y, x คูณ y, x หาร y, x mod y \n",
    "และพร้อมแสดงผลลัพธ์ออกมา"
   ]
  },
  {
   "cell_type": "code",
   "execution_count": 20,
   "metadata": {},
   "outputs": [],
   "source": [
    "# Insert your answer here:"
   ]
  },
  {
   "cell_type": "markdown",
   "metadata": {},
   "source": [
    "Booleans"
   ]
  },
  {
   "cell_type": "markdown",
   "metadata": {},
   "source": [
    "1.8 Write code to check if True equals False and display the result.\n",
    "\n",
    "1.8 ให้ทำการเขียน code เช็ค True เท่ากับ False พร้อมแสดงผลลัพธ์ออกมา"
   ]
  },
  {
   "cell_type": "code",
   "execution_count": 19,
   "metadata": {},
   "outputs": [],
   "source": [
    "# Insert your answer here:"
   ]
  },
  {
   "cell_type": "markdown",
   "metadata": {},
   "source": [
    "#### Lesson 2"
   ]
  },
  {
   "cell_type": "markdown",
   "metadata": {},
   "source": [
    "list"
   ]
  },
  {
   "cell_type": "markdown",
   "metadata": {},
   "source": [
    "2.1. Create `names = [\"Bob\", \"Jo\", \"Jane\"]` and display the name 'Jane'.\n",
    "\n",
    "2.1 ให้ทำการสร้าง `names = [\"Bob\", \"Jo\", \"Jane\"]` โดยให้แสดงชื่อ \"Jane\" ออกมา"
   ]
  },
  {
   "cell_type": "code",
   "execution_count": 18,
   "metadata": {},
   "outputs": [],
   "source": [
    "# Insert your answer here:"
   ]
  },
  {
   "cell_type": "markdown",
   "metadata": {},
   "source": [
    "sets"
   ]
  },
  {
   "cell_type": "markdown",
   "metadata": {},
   "source": [
    "2.2. Create `fruits = {\"orange\", \"coconut\", \"strawberry\"}` and add 'pineapple' into fruits.\n",
    "\n",
    "2.2 ให้ทำการสร้าง `fruits = {\"orange\", \"coconut\", \"strawberry\"}` โดยให้เพิ่ม 'pineapple' เข้าไปใน fruits"
   ]
  },
  {
   "cell_type": "code",
   "execution_count": 17,
   "metadata": {},
   "outputs": [],
   "source": [
    "# Insert your answer here:"
   ]
  },
  {
   "cell_type": "markdown",
   "metadata": {},
   "source": [
    "tuples"
   ]
  },
  {
   "cell_type": "markdown",
   "metadata": {},
   "source": [
    "2.3: Create `hobbies = (\"read a book\",\"play football\", \"running\")` and retrieve the value 'play football' to display.\n",
    "\n",
    "2.3 ให้สร้าง `hobbies = (\"read a book\",\"play football\", \"running\")` ให้ดึงค่า 'play football' ออกมาแสดง"
   ]
  },
  {
   "cell_type": "code",
   "execution_count": 16,
   "metadata": {},
   "outputs": [],
   "source": [
    "# Insert your answer here:"
   ]
  },
  {
   "cell_type": "markdown",
   "metadata": {},
   "source": [
    "dictionaries"
   ]
  },
  {
   "cell_type": "markdown",
   "metadata": {},
   "source": [
    "2.4 Create `user_info = {\"nickname\":\"Jo\",\"age\": 23,\"gender\":\"male\"}` and retrieve the value 'Jo' to display.\n",
    "\n",
    "2.4 สร้าง `user_info = {\"nickname\":\"Jo\",\"age\": 23,\"gender\":\"male\"}` และดึงค่า 'Jo' จากนั้นแสดงผลมาทางหน้าจอ"
   ]
  },
  {
   "cell_type": "code",
   "execution_count": 15,
   "metadata": {},
   "outputs": [],
   "source": [
    "# Insert your answer here:"
   ]
  },
  {
   "cell_type": "markdown",
   "metadata": {},
   "source": [
    "#### Lesson 3"
   ]
  },
  {
   "cell_type": "markdown",
   "metadata": {},
   "source": [
    "if"
   ]
  },
  {
   "cell_type": "markdown",
   "metadata": {},
   "source": [
    "3.1 Check the condition. First, declare the variable `number = 12`. Check the condition: if number is greater than 10, print the message 'number more 10'.\n",
    "\n",
    "3.1 ให้ทำการตรวจสอบเงื่อน โดยอันดับแรก ประกาศตัวแปร `number = 12` ให้ตรวจสอบเงื่อนไข ถ้า number มากกว่า 10 ให้ปริ้นคำว่า \"number more 10\""
   ]
  },
  {
   "cell_type": "code",
   "execution_count": 14,
   "metadata": {},
   "outputs": [],
   "source": [
    "# Insert your answer here:"
   ]
  },
  {
   "cell_type": "markdown",
   "metadata": {},
   "source": [
    "else"
   ]
  },
  {
   "cell_type": "markdown",
   "metadata": {},
   "source": [
    "3.2 Create a variable named `total_attendances = input the number of attendances in the course 'Introduction to Python'`. If it's greater than or equal to 3, print \"You're super awesome, I respect you.\", otherwise print \"Try harder\".\n",
    "\n",
    "3.2 ให้ทำการสร้าง ตัวแปรที่มีชื่อว่า `total_attendances = พร้อมกับใส่จำนวนการเข้าในคอร์ส Introduction to Python` ถ้ามากกว่าหรือเท่ากับ 3 ให้ปริ้นคำว่า \"You're super awesome, I respect you.\" แต่ถ้าไม่ถึง 3 ให้ปริ้นคำว่า \"Try harder.\""
   ]
  },
  {
   "cell_type": "code",
   "execution_count": 13,
   "metadata": {},
   "outputs": [],
   "source": [
    "# Insert your answer here:"
   ]
  },
  {
   "cell_type": "markdown",
   "metadata": {},
   "source": [
    "else if"
   ]
  },
  {
   "cell_type": "markdown",
   "metadata": {},
   "source": [
    "3.3 Add else if from 3.2. If `total_attendances` is greater than 1 and less than equal to 2, type \"You really take studying seriously, I commend you.\"\n",
    "\n",
    "3.3 ให้ทำการเพิ่ม else if จาก 3.2 ถ้า `total_attendances` มากกว่า 1 และน้อยกว่าเท่ากับ 2 ให้ทำการพิมพ์คำว่า \"You really take studying seriously, I commend you.\""
   ]
  },
  {
   "cell_type": "code",
   "execution_count": 12,
   "metadata": {},
   "outputs": [],
   "source": [
    "# Insert your answer here:"
   ]
  },
  {
   "cell_type": "markdown",
   "metadata": {},
   "source": [
    "logical operators"
   ]
  },
  {
   "cell_type": "markdown",
   "metadata": {},
   "source": [
    "3.4 Set the variable x to 10 and y to 5 (x = 10, y = 5). Check if x is greater than y and y is less than x. If true, print \"x is greater than y and y is less than x\".\n",
    "\n",
    "3.4 กำหนดค่าตัวแปร x เป็น 10 และ y เป็น 5 (x = 10, y = 5) ตรวจสอบว่า x มากกว่า y และ y น้อยกว่า x หรือไม่ ถ้าใช่ให้พิมพ์ว่า \"x is greater than y and y is less than x\""
   ]
  },
  {
   "cell_type": "code",
   "execution_count": 11,
   "metadata": {},
   "outputs": [],
   "source": [
    "# Insert your answer here:"
   ]
  },
  {
   "cell_type": "markdown",
   "metadata": {},
   "source": [
    "in / not in"
   ]
  },
  {
   "cell_type": "markdown",
   "metadata": {},
   "source": [
    "3.5 Search for \"Jo\" in `names = [\"Bob\", \"Jane\", \"Jo\", \"Pep\"]` using `in` for searching. If \"Jo\" is in names, print \"Jo is in the variable names\".\n",
    "\n",
    "3.5 ให้ทำการค้นหา \"Jo\" ใน `names = [\"Bob\",\"Jane\",\"Jo\",\"Pep\"]` โดยใช้ `in` ในการค้นหา ถ้ามี \"Jo\" ใน names ให้พิมพ์ว่า \"Jo is in the variable names\"."
   ]
  },
  {
   "cell_type": "code",
   "execution_count": 10,
   "metadata": {},
   "outputs": [],
   "source": [
    "# Insert your answer here:"
   ]
  },
  {
   "cell_type": "markdown",
   "metadata": {},
   "source": [
    "3.6 If 3 is not in `numbers = [0,2,4,6,8]`, print '3 is not in numbers'.\n",
    "\n",
    "3.6 ให้เช็คว่า 3 ไม่อยู่ใน `numbers = [0,2,4,6,8]` ถ้ามันเป็นจริงให้ปริ้นคำว่า \"3 is not in numbers\"\n"
   ]
  },
  {
   "cell_type": "code",
   "execution_count": 9,
   "metadata": {},
   "outputs": [],
   "source": [
    "# Insert your answer here:"
   ]
  },
  {
   "cell_type": "markdown",
   "metadata": {},
   "source": [
    "for loop"
   ]
  },
  {
   "cell_type": "markdown",
   "metadata": {},
   "source": [
    "3.7 Declare a variable `numbers = [1,2,3,4,5,6,7,8,9,10]`. Then, find the odd numbers using a for loop and accumulate the odd numbers in a variable named sumNumberOdd. Finally, display sumNumberOdd on the console.\n",
    "\n",
    "3.7 ให้ทำการประกาศตัวแปร `numbers = [1,2,3,4,,5,6,7,8,9,10]` จากนั้นให้หาเลขคี่ ผ่านการใช้ for loop และทำการบวกค่าที่เป็นเลขคี่ไว้ที่ตัวแปร sumNumberOdd พร้อมกับแสดง sumNumberOdd ทาง console"
   ]
  },
  {
   "cell_type": "code",
   "execution_count": 8,
   "metadata": {},
   "outputs": [],
   "source": [
    "# Insert your answer here:"
   ]
  },
  {
   "cell_type": "markdown",
   "metadata": {},
   "source": [
    "break"
   ]
  },
  {
   "cell_type": "markdown",
   "metadata": {},
   "source": [
    "3.8 Write a Python program that uses a for loop to iterate through values from 1 to 10, printing the numbers each time it loops, and stops the loop when encountering 5, printing 'Encountered the number 5'.\n",
    "\n",
    "3.8 จงเขียนโปรแกรม Python ที่ใช้ for loop เพื่อวนลูปผ่านค่าตั้งแต่ 1 ถึง 10 พร้อมกับพิมพ์ตัวเลขออกมาในแต่ละครั้งของการวนลูป และให้โปรแกรมหยุดลูปเมื่อพบ 5 พร้อมกับพิมพ์ \"Encountered the number 5\""
   ]
  },
  {
   "cell_type": "code",
   "execution_count": 7,
   "metadata": {},
   "outputs": [],
   "source": [
    "# Insert your answer here:"
   ]
  },
  {
   "cell_type": "markdown",
   "metadata": {},
   "source": [
    "continue"
   ]
  },
  {
   "cell_type": "markdown",
   "metadata": {},
   "source": [
    "3.9 Write a Python code that uses a for loop to process the list of messages in `messages = [\"Hello!\", \"This is a long message that should be skipped\", \"Hi!\", \"Another short message\"]`. The program should print out all messages that are no longer than 20 characters, excluding messages that exceed 20 characters (use continue when encountering a message longer than 20 characters).\n",
    "\n",
    "3.9 ให้เขียนโค้ด Python ที่ใช้ลูป for เพื่อประมวลผลรายการข้อความใน `messages = [\"Hello!\", \"This is a long message that should be skipped\", \"Hi!\", \"Another short message\"]` โดยโปรแกรมควรพิมพ์ข้อความทั้งหมดที่มีความยาวไม่เกิน 20 ตัวอักษรออกมา โดยไม่รวมข้อความที่มีความยาวเกิน 20 ตัวอักษร (ให้ใช้ continue เมื่อเจอตัวอักษรที่มีความยาวเกิน 20 ตัวอักษร)\n"
   ]
  },
  {
   "cell_type": "code",
   "execution_count": 6,
   "metadata": {},
   "outputs": [],
   "source": [
    "# Insert your answer here:"
   ]
  },
  {
   "cell_type": "markdown",
   "metadata": {},
   "source": [
    "#### Lesson 4"
   ]
  },
  {
   "cell_type": "markdown",
   "metadata": {},
   "source": [
    "Function"
   ]
  },
  {
   "cell_type": "markdown",
   "metadata": {},
   "source": [
    "4.1 Please create a function named `sayHello` that prints the statement 'Hello, World!'. Then, call the `sayHello` function.\n",
    "\n",
    "4.1 ให้ทำการสร้าง function ที่มีชื่อว่า `sayHello`โดยใน statement ให้ทำกาพิมพ์ว่า \"Hello, World!\" จากนั้นเรียกใช้ `sayHello`\n"
   ]
  },
  {
   "cell_type": "code",
   "execution_count": 5,
   "metadata": {},
   "outputs": [],
   "source": [
    "# Insert your answer here:"
   ]
  },
  {
   "cell_type": "markdown",
   "metadata": {},
   "source": [
    "Call function"
   ]
  },
  {
   "cell_type": "markdown",
   "metadata": {},
   "source": [
    "4.2 Write a Python function named `calculate_average` that takes a list of scores as a parameter. Send `scores = [85, 90, 92, 78, 82, 95, 88, 70, 60, 98]` to the `calculate_average` function and return the average of all the scores. Along with displaying the result of the average on the console.\n",
    "\n",
    "4.2 เขียนฟังก์ชัน Python ที่ชื่อ `calculate_average` ที่รับรายการของคะแนนเป็นพารามิเตอร์ โดยให้ส่ง `scores = [85, 90, 92, 78, 82, 95, 88, 70, 60, 98]` ไปที่ฟังก์ชัน `calculate_average` และคืนค่าเฉลี่ยของคะแนนทั้งหมด พร้อมกับแสดงผลลัพธ์ของค่าเฉลี่ยบน console"
   ]
  },
  {
   "cell_type": "code",
   "execution_count": 4,
   "metadata": {},
   "outputs": [],
   "source": [
    "# Insert your answer here:"
   ]
  },
  {
   "cell_type": "markdown",
   "metadata": {},
   "source": [
    "Argument"
   ]
  },
  {
   "cell_type": "markdown",
   "metadata": {},
   "source": [
    "4.3 Create a function named `calculate_area`. In the function statement, calculate the area of a square with a parameter `x`. Then, call the function and pass the value to it. Set `x` to 5 and return the result. Finally, display the result on the console.\n",
    "\n",
    "4.3 สร้างฟังก์ชันที่มีชื่อว่า `calculate_area` โดยใน statement ให้ทำการหาพื้นที่สี่เหลี่ยมจัตุรัส โดยมี parameter เป็น x จากนั้นเรียกใช้ function พร้อมกับส่งค่าไปที่ฟังก์ชัน โดยกำหนดให้ x = 5 และ return ค่าออกมา พร้อมกันแสดงผลลัพธ์บน console\n"
   ]
  },
  {
   "cell_type": "code",
   "execution_count": 3,
   "metadata": {},
   "outputs": [],
   "source": [
    "# Insert your answer here:"
   ]
  },
  {
   "cell_type": "markdown",
   "metadata": {},
   "source": [
    "Parameter"
   ]
  },
  {
   "cell_type": "markdown",
   "metadata": {},
   "source": [
    "4.4 Create a function named `addNumber` with parameters 'x' and 'y'. Within the function statement, calculate 'x + y' and store it in the variable 'c'. Then, print 'c'. Finally, call the function `addNumber` with arguments 10 and 5.\n",
    "\n",
    "4.4 สร้างฟังก์ชันชื่อ `addNumber` มี parameter x และ y ใน statement ให้ทำการคำนวน x + y แล้วเก็บไว้ที่ตัวแปร c จากนั้นพิมพ์ c ออกมา โดยการเรียกใช้ฟังก์ชัน `addNumber` ให้ใส่ argument 10 และ 5\n"
   ]
  },
  {
   "cell_type": "code",
   "execution_count": 2,
   "metadata": {},
   "outputs": [],
   "source": [
    "# Insert your answer here:"
   ]
  },
  {
   "cell_type": "markdown",
   "metadata": {},
   "source": [
    "Return"
   ]
  },
  {
   "cell_type": "markdown",
   "metadata": {},
   "source": [
    "4.5 Declare a variable named 'text' with a value equal to firstname and lastname of the student.. Then, create a function named `count_string` with a parameter text. Within the function statement, use `len` to count the number of characters in the text and return the count of characters. Finally, call the `count_string` function with the 'text' as an argument.\n",
    "\n",
    "4.5 ประกาศตัวแปร 'text' มีค่าเท่ากับชื่อและนามสกุลของนักเรียน จากนั้นทำการสร้างฟังก์ชันชื่อว่า `count_string` โดยมี parameter เป็น text ในส่วน statement ให้ใช้ `len` ในการนับจำนวนของ text พร้อมกับ return จำนวนของอักขระออกไป จากนั้นให้ทำการ call `count_string` พร้อมกับใส่ argument เป็น text\n"
   ]
  },
  {
   "cell_type": "code",
   "execution_count": 1,
   "metadata": {},
   "outputs": [],
   "source": [
    "# Insert your answer here:"
   ]
  }
 ],
 "metadata": {
  "kernelspec": {
   "display_name": "python_course",
   "language": "python",
   "name": "python3"
  },
  "language_info": {
   "codemirror_mode": {
    "name": "ipython",
    "version": 3
   },
   "file_extension": ".py",
   "mimetype": "text/x-python",
   "name": "python",
   "nbconvert_exporter": "python",
   "pygments_lexer": "ipython3",
   "version": "3.11.7"
  }
 },
 "nbformat": 4,
 "nbformat_minor": 2
}
