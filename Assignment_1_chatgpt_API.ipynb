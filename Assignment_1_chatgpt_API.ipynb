{
 "cells": [
  {
   "cell_type": "markdown",
   "metadata": {},
   "source": [
    "### Lesson 5 - ChatGPT API assignment"
   ]
  },
  {
   "cell_type": "markdown",
   "metadata": {},
   "source": [
    "What is an API?\n",
    "\n",
    "API stands for Application Programming Interface. An API is a mechanism for 2 software components to communicate with each other.\n",
    "\n",
    "\n",
    "API คืออะไร?\n",
    "\n",
    "API ย่อมาจาก Application Programming Interface หรือ อินเตอร์เฟสการเขียนโปรแกรมประยุกต์ API เป็นกลไกที่ช่วยให้ซอฟต์แวร์ 2 ส่วน สามารถติดต่อสื่อสารกันได้\n",
    "\n",
    "<img height=\"inherit\" width=\"inherit\" src=https://voyager.postman.com/illustration/diagram-what-is-an-api-postman-illustration.svg>"
   ]
  },
  {
   "cell_type": "markdown",
   "metadata": {},
   "source": [
    "Today, we will use a ChatGPT API to let your code \"talk\" to the ChatGPT model.\n",
    "\n",
    "วันนี้ เราจะใช้ API ของ ChatGPT เพื่อให้โค้ดของคุณ \"พูดคุย\" กับโมเดล ChatGPT ได้"
   ]
  },
  {
   "cell_type": "markdown",
   "metadata": {},
   "source": [
    "#### Install the package"
   ]
  },
  {
   "cell_type": "markdown",
   "metadata": {},
   "source": [
    "Previously, we used `conda` to install packages, remember? However, not all packages are available through `conda`. When they're not available on `conda`, we can typically use `pip`. Use the code below to install the `openai` package to your local environment using `pip`\n",
    "\n",
    "\n",
    "ก่อนหน้านี้เราใช้ conda ติดตั้งแพ็คเกจ จำได้ไหม? แต่ไม่ใช่ว่าแพ็คเกจทั้งหมดจะมีอยู่ใน conda เวลาที่แพ็คเกจไม่มีใน conda เราสามารถใช้ pip แทน ใช้โค้ดด้านล่างเพื่อติดตั้งแพ็คเกจ openai ในสภาพแวดล้อมท้องถิ่นของคุณโดยใช้ pip"
   ]
  },
  {
   "cell_type": "code",
   "execution_count": 1,
   "metadata": {},
   "outputs": [
    {
     "name": "stdout",
     "output_type": "stream",
     "text": [
      "Collecting openai\n",
      "  Downloading openai-1.11.1-py3-none-any.whl (226 kB)\n",
      "\u001b[K     |████████████████████████████████| 226 kB 985 kB/s eta 0:00:01\n",
      "\u001b[?25hCollecting sniffio\n",
      "  Using cached sniffio-1.3.0-py3-none-any.whl (10 kB)\n",
      "Collecting distro<2,>=1.7.0\n",
      "  Downloading distro-1.9.0-py3-none-any.whl (20 kB)\n",
      "Collecting typing-extensions<5,>=4.7\n",
      "  Downloading typing_extensions-4.7.1-py3-none-any.whl (33 kB)\n",
      "Collecting httpx<1,>=0.23.0\n",
      "  Downloading httpx-0.24.1-py3-none-any.whl (75 kB)\n",
      "\u001b[K     |██████████████████████████████▍ | 71 kB 2.3 MB/s eta 0:00:01     |████████████████████████████████| 75 kB 1.9 MB/s \n",
      "\u001b[?25hCollecting cached-property\n",
      "  Downloading cached_property-1.5.2-py2.py3-none-any.whl (7.6 kB)\n",
      "Collecting pydantic<3,>=1.9.0\n",
      "  Downloading pydantic-2.5.3-py3-none-any.whl (381 kB)\n",
      "\u001b[K     |████████████████████████████████| 381 kB 2.3 MB/s eta 0:00:01\n",
      "\u001b[?25hCollecting tqdm>4\n",
      "  Downloading tqdm-4.66.1-py3-none-any.whl (78 kB)\n",
      "\u001b[K     |████████████████████████████████| 78 kB 3.0 MB/s eta 0:00:01\n",
      "\u001b[?25hCollecting anyio<5,>=3.5.0\n",
      "  Downloading anyio-3.7.1-py3-none-any.whl (80 kB)\n",
      "\u001b[K     |████████████████████████████████| 80 kB 2.6 MB/s eta 0:00:01\n",
      "\u001b[?25hRequirement already satisfied: idna>=2.8 in /Users/agne/miniconda3/envs/asr_env/lib/python3.7/site-packages (from anyio<5,>=3.5.0->openai) (2.10)\n",
      "Collecting exceptiongroup\n",
      "  Using cached exceptiongroup-1.2.0-py3-none-any.whl (16 kB)\n",
      "Requirement already satisfied: certifi in /Users/agne/miniconda3/envs/asr_env/lib/python3.7/site-packages (from httpx<1,>=0.23.0->openai) (2020.12.5)\n",
      "Collecting httpcore<0.18.0,>=0.15.0\n",
      "  Downloading httpcore-0.17.3-py3-none-any.whl (74 kB)\n",
      "\u001b[K     |████████████████████████████████| 74 kB 1.8 MB/s eta 0:00:011\n",
      "\u001b[?25hCollecting h11<0.15,>=0.13\n",
      "  Downloading h11-0.14.0-py3-none-any.whl (58 kB)\n",
      "\u001b[K     |████████████████████████████████| 58 kB 1.1 MB/s eta 0:00:01\n",
      "\u001b[?25hRequirement already satisfied: importlib-metadata in /Users/agne/miniconda3/envs/asr_env/lib/python3.7/site-packages (from pydantic<3,>=1.9.0->openai) (3.7.2)\n",
      "Collecting pydantic-core==2.14.6\n",
      "  Downloading pydantic_core-2.14.6-cp37-cp37m-macosx_10_7_x86_64.whl (1.9 MB)\n",
      "\u001b[K     |████████████████████████████████| 1.9 MB 1.9 MB/s eta 0:00:01     |███████████                     | 645 kB 1.9 MB/s eta 0:00:01     |███████████████████████▍        | 1.4 MB 1.9 MB/s eta 0:00:01\n",
      "\u001b[?25hCollecting annotated-types>=0.4.0\n",
      "  Downloading annotated_types-0.5.0-py3-none-any.whl (11 kB)\n",
      "Requirement already satisfied: zipp>=0.5 in /Users/agne/miniconda3/envs/asr_env/lib/python3.7/site-packages (from importlib-metadata->pydantic<3,>=1.9.0->openai) (3.4.1)\n",
      "Installing collected packages: typing-extensions, sniffio, exceptiongroup, h11, anyio, pydantic-core, httpcore, annotated-types, tqdm, pydantic, httpx, distro, cached-property, openai\n",
      "  Attempting uninstall: typing-extensions\n",
      "    Found existing installation: typing-extensions 3.7.4.3\n",
      "    Uninstalling typing-extensions-3.7.4.3:\n",
      "      Successfully uninstalled typing-extensions-3.7.4.3\n",
      "Successfully installed annotated-types-0.5.0 anyio-3.7.1 cached-property-1.5.2 distro-1.9.0 exceptiongroup-1.2.0 h11-0.14.0 httpcore-0.17.3 httpx-0.24.1 openai-1.11.1 pydantic-2.5.3 pydantic-core-2.14.6 sniffio-1.3.0 tqdm-4.66.1 typing-extensions-4.7.1\n"
     ]
    }
   ],
   "source": [
    "!pip install openai"
   ]
  },
  {
   "cell_type": "markdown",
   "metadata": {},
   "source": [
    "API calls use API keys. API key is used to identify and authenticate the user of the API key.\n",
    "\n",
    "\n",
    "การเรียกใช้ API จะใช้ API key ซึ่ง API key นี้มีไว้เพื่อระบุและตรวจสอบสิทธิ์ของผู้ใช้ API key นั้น\n",
    "\n",
    "To use the ChatGPT API, we need to generate an API key. You can do that by going to: https://platform.openai.com/api-keys and clicking on `Create new secret key`. Copy the key and paste it below as the value to your `my_api_key` variable\n",
    "\n",
    "เพื่อใช้ API ของ ChatGPT เราจำเป็นต้องสร้าง API key คุณสามารถทำได้โดยไปที่: https://platform.openai.com/api-keys และคลิกที่ \"สร้างคีย์ลับใหม่\" (Create new secret key) จากนั้นคัดลอกคีย์และวางด้านล่างนี้เป็นค่าของตัวแปร \"my_api_key\" ของคุณ"
   ]
  },
  {
   "cell_type": "code",
   "execution_count": 2,
   "metadata": {},
   "outputs": [],
   "source": [
    "# Insert your API key here\n",
    "my_api_key = \"\""
   ]
  },
  {
   "cell_type": "markdown",
   "metadata": {},
   "source": [
    "#### Import a package\n",
    "\n",
    "\n",
    "In Python, to be able to use a package that you have installed, you need to `import` it. If you only need a specific module from a package, you can use the notation `from ... import ...`\n",
    "\n",
    "\n",
    "ใน Python เพื่อที่จะสามารถใช้แพ็คเกจที่คุณติดตั้ง คุณจำเป็นต้อง import มัน\n",
    "ถ้าคุณต้องการเพียงแค่โมดูลเฉพาะจากแพ็คเกจ คุณสามารถใช้รูปแบบ from ... import ...\n",
    "\n",
    "Run the code below to be able to use the `OpenAI` module\n",
    "\n",
    "\n",
    "เรียกใช้โค้ดด้านล่างเพื่อให้สามารถใช้โมดูล OpenAI ได้"
   ]
  },
  {
   "cell_type": "code",
   "execution_count": 3,
   "metadata": {},
   "outputs": [],
   "source": [
    "from openai import OpenAI"
   ]
  },
  {
   "cell_type": "markdown",
   "metadata": {},
   "source": [
    "### Let's start interacting with ChatGPT!\n",
    "\n",
    "Don't worry, we'll start with some code already. You don't need to know how to write it all - often we use a lot of copy & pasted code. We'll try to understand it together.\n",
    "\n",
    "\n",
    "ไม่ต้องกังวลนะครับ! เราจะเริ่มต้นด้วยโค้ดสำเร็จรูปก่อน ไม่จำเป็นต้องรู้วิธีเขียนทั้งหมดหรอก เพราะบ่อยครั้งเราก็ใช้การคัดลอกและวางโค้ด เราจะมาพยายามทำความเข้าใจมันไปด้วยกันครับ"
   ]
  },
  {
   "cell_type": "code",
   "execution_count": 1,
   "metadata": {},
   "outputs": [],
   "source": [
    "client = OpenAI(api_key=my_api_key) # This establishes our connection as the \"client\"\n",
    "\n",
    "# Now we make the call to ChatGPT as the client.\n",
    "chat_completion = client.chat.completions.create(\n",
    "    messages=[\n",
    "        {\n",
    "            \"role\": \"user\", # This is our role - user\n",
    "            \"content\": \"Hello! How are you?\", # This is our first message to the ChatGPT model\n",
    "        }\n",
    "    ],\n",
    "    model=\"gpt-3.5-turbo\", # This is the type of model we will use from the models ChatGPT provides\n",
    ")\n",
    "\n",
    "chat_response = chat_completion \n",
    "print(\"ChatGPT: \", chat_response) # Here we print the response"
   ]
  },
  {
   "cell_type": "markdown",
   "metadata": {},
   "source": [
    "Uh oh! The response looks weird! What is the type of the response? \n",
    "\n",
    "\n",
    "อุ๊ย! ดูเหมือนคำตอบจะผิดปกติไปหน่อย! อยากทราบว่ามันเป็นประเภทอะไรหรอครับ?"
   ]
  },
  {
   "cell_type": "code",
   "execution_count": 2,
   "metadata": {},
   "outputs": [],
   "source": [
    "# Check response type"
   ]
  },
  {
   "cell_type": "markdown",
   "metadata": {},
   "source": [
    "How can we make it prettier? \n",
    "\n",
    "เราจะทำให้มันสวยขึ้นได้อย่างไร?\n",
    "\n",
    "For that, we need to understand what objects the response is made from. Have a look at the ChatGPT code repository: https://github.com/openai/openai-python/blob/main/src/openai/types/chat/chat_completion.py \n",
    "\n",
    "\n",
    "เพื่อสิ่งนั้น เราต้องเข้าใจว่าการตอบสนองนั้นทำมาจากวัตถุอะไร ดูที่เก็บรหัส ChatGPT: https://github.com/openai/openai-python/blob/main/src/openai/types/chat/chat_completion.py"
   ]
  },
  {
   "cell_type": "markdown",
   "metadata": {},
   "source": [
    "### Exercise 5.1\n",
    "\n",
    "Copy the ChatGPT call from above and make sure that we only print the text of the response, not the entire object.\n",
    "\n",
    "\n",
    "คัดลอกการเรียก ChatGPT จากด้านบน และตรวจสอบให้แน่ใจว่าเราจะพิมพ์เฉพาะข้อความตอบกลับ ไม่ใช่ทั้งหมด\n"
   ]
  },
  {
   "cell_type": "code",
   "execution_count": 3,
   "metadata": {},
   "outputs": [],
   "source": [
    "# Input your answer here\n"
   ]
  },
  {
   "cell_type": "markdown",
   "metadata": {},
   "source": [
    "### Exercise 5.2\n",
    "\n",
    "Open the ChatGPT user interface (UI): https://chat.openai.com/. Input the same message into the dialogue box and compare the response with what you got out of your API call. Are they the same?\n",
    "\n",
    "\n",
    "เปิดอินเทอร์เฟซผู้ใช้ ChatGPT (UI): https://chat.openai.com/ ป้อนข้อความเดียวกันลงในกล่องโต้ตอบและเปรียบเทียบการตอบกลับกับสิ่งที่คุณได้รับจากการเรียก API พวกเขาเหมือนกันหรือเปล่า?"
   ]
  },
  {
   "cell_type": "markdown",
   "metadata": {},
   "source": [
    "##### Input your answer here"
   ]
  },
  {
   "cell_type": "markdown",
   "metadata": {},
   "source": [
    "### input() function\n",
    "\n",
    "For interactive application, Python has an `input()` function. We can use this function, instead of pre-defining our message content. Let's try this!\n",
    "\n",
    "\n",
    "สำหรับแอปพลิเคชันแบบโต้ตอบ   Python มีฟังก์ชัน input() เราสามารถใช้ฟังก์ชันนี้เพื่อรับอินพุตจากผู้ใช้แทนที่จะกำหนดเนื้อหาข้อความไว้ล่วงหน้า ลองดูตัวอย่างนี้!"
   ]
  },
  {
   "cell_type": "markdown",
   "metadata": {},
   "source": [
    "Note that the `input()` function will require you to type the input in VS Code at the search bar above!\n",
    "\n",
    "หมายเหตุ: ฟังก์ชัน input() จะต้องการให้คุณพิมพ์อินพุตใน VS Code ที่แถบการค้นหาด้านบน!"
   ]
  },
  {
   "cell_type": "code",
   "execution_count": 4,
   "metadata": {},
   "outputs": [],
   "source": [
    "client = OpenAI(api_key=my_api_key)\n",
    "content = input(\"User: \")\n",
    "chat_completion = client.chat.completions.create(\n",
    "    messages=[\n",
    "        {\n",
    "            \"role\": \"user\", # This is our role - user\n",
    "            \"content\": content, # This is our first message to the ChatGPT model\n",
    "        }\n",
    "    ],\n",
    "    model=\"gpt-3.5-turbo\", # This is the type of model we will use from the models ChatGPT provides\n",
    ")\n",
    "\n",
    "chat_response = chat_completion.choices[0].message.content \n",
    "print(\"ChatGPT: \", chat_response)"
   ]
  },
  {
   "cell_type": "markdown",
   "metadata": {},
   "source": [
    "### Exercise 5.3\n",
    "\n",
    "Let's make the chat text nicer and print the user's input to the console!\n",
    "\n",
    "เราลองปรับแต่งข้อความให้ดูดีขึ้นและแสดงข้อความที่ผู้ใช้ป้อนบนคอนโซลกันเถอะ!"
   ]
  },
  {
   "cell_type": "code",
   "execution_count": 5,
   "metadata": {},
   "outputs": [],
   "source": [
    "# Input your answer here\n"
   ]
  },
  {
   "cell_type": "markdown",
   "metadata": {},
   "source": [
    "Okay! This is looking good already. However, the interaction is not much different from using the ChatGPT UI. Let's see if we can change that!\n",
    "\n",
    "\n",
    "ตกลง! นี่ก็ดูดีอยู่แล้ว อย่างไรก็ตาม การโต้ตอบไม่ได้แตกต่างจากการใช้ ChatGPT UI มากนัก มาดูกันว่าเราสามารถเปลี่ยนแปลงสิ่งนั้นได้หรือไม่!\n",
    "\n",
    "\n",
    "The `message` allows us to set roles for the interaction. Let's see what roles we can use: https://github.com/openai/openai-python/blob/main/src/openai/types/chat/chat_completion_role.py\n",
    "\n",
    "`message` ตัวนี้ช่วยให้เราสามารถกำหนดบทบาทต่างๆ สำหรับการโต้ตอบ ลองดูบทบาทที่เราสามารถใช้ได้กัน: https://github.com/openai/openai-python/blob/main/src/openai/types/chat/chat_completion_role.py"
   ]
  },
  {
   "cell_type": "code",
   "execution_count": 5,
   "metadata": {},
   "outputs": [],
   "source": [
    "additional_message = {\"role\": \"system\", \"content\": \"You are a programming teacher who is conducting a Python programming oral test for your student\"}"
   ]
  },
  {
   "cell_type": "markdown",
   "metadata": {},
   "source": [
    "### Exercise 5.4\n",
    "\n",
    "How can we add the `additional_message` to the `messages` variable? Print your changed `messages` variable to the console.\n",
    "\n",
    "\n",
    "เราจะเพิ่มข้อความ `additional_message` เข้าไปในตัวแปร `messages` ได้อย่างไร? พิมพ์ตัวแปร `messages` ที่อัปเดตแล้วของคุณลงบนคอนโซล"
   ]
  },
  {
   "cell_type": "code",
   "execution_count": 9,
   "metadata": {},
   "outputs": [],
   "source": [
    "messages = [\n",
    "        {\n",
    "            \"role\": \"user\", # This is our role - user\n",
    "            \"content\": content, # This is our first message to the ChatGPT model\n",
    "        }\n",
    "    ]\n"
   ]
  },
  {
   "cell_type": "code",
   "execution_count": 10,
   "metadata": {},
   "outputs": [],
   "source": [
    "#Input your answer here\n"
   ]
  },
  {
   "cell_type": "code",
   "execution_count": 11,
   "metadata": {},
   "outputs": [],
   "source": [
    "# Now let's use the new `messages` variable in our code!\n",
    "\n",
    "client = OpenAI(api_key=my_api_key)\n",
    "message = []\n",
    "content = input(\"User: \")\n",
    "message.append(additional_message)\n",
    "message.append({\"role\": \"user\", \"content\": content})\n",
    "print(\"Me: \", content)\n",
    "chat_completion = client.chat.completions.create(\n",
    "    messages = message,\n",
    "    model = \"gpt-3.5-turbo\", # This is the type of model we will use from the models ChatGPT provides\n",
    ")\n",
    "\n",
    "chat_response = chat_completion.choices[0].message.content \n",
    "print(\"ChatGPT: \", chat_response)"
   ]
  },
  {
   "cell_type": "markdown",
   "metadata": {},
   "source": [
    "### Exercise 5.5\n",
    "\n",
    "Now try inputting \"hi\" to the ChatGPT UI: https://chat.openai.com/\\\n",
    "Can you notice the difference between the responses you get? Do you understand what changed?\\\n",
    "Try different roles with different messages. Note that not all of them will give you a different result from the generic response.\\\n",
    "Welcome to the world of prompt engineering!\n",
    "\n",
    "\n",
    "ตอนนี้ ลองป้อนข้อความ \"hi\" เข้าไปในหน้า UI ของ ChatGPT: https://chat.openai.com/\\\n",
    "คุณสังเกตเห็นความแตกต่างระหว่างคำตอบที่คุณได้รับหรือไม่? คุณเข้าใจไหมว่าอะไรเปลี่ยนไป?\\\n",
    "ลองใช้บทบาทที่แตกต่างกันกับข้อความที่แตกต่างกัน โปรดทราบว่าบทบาทบางอย่างอาจไม่ทำให้คุณได้รับผลลัพธ์ที่แตกต่างจากคำตอบทั่วไป\\\n",
    "\n",
    "ยินดีต้อนรับสู่โลกแห่งวิศวกรรมพรมท์!"
   ]
  },
  {
   "cell_type": "markdown",
   "metadata": {},
   "source": [
    "##### Paste your answers here"
   ]
  },
  {
   "cell_type": "markdown",
   "metadata": {},
   "source": [
    "### Cleaning up our code"
   ]
  },
  {
   "cell_type": "markdown",
   "metadata": {},
   "source": [
    "Our code is getting messy now and we keep copying the code with minimal changes - is there a better solution for this? \n",
    "\n",
    "\n",
    "โค้ดของเรากำลังเริ่มยุ่งเหยิง เราคัดลอกโค้ดเดิมมาปรับนิดหน่อยบ่อยๆ - มีวิธีแก้ไขที่ดีกว่านี้ไหม?"
   ]
  },
  {
   "cell_type": "code",
   "execution_count": 12,
   "metadata": {},
   "outputs": [],
   "source": [
    "# Hint: we can write nice strings including our variables in Python, using the f-string:\n",
    "\n",
    "x = \"hello\"\n",
    "\n",
    "print(\"say:\", x)\n",
    "\n",
    "\n",
    "# can be turned into:\n",
    "\n",
    "print(f\"say: {x}\")"
   ]
  },
  {
   "cell_type": "code",
   "execution_count": 9,
   "metadata": {},
   "outputs": [],
   "source": [
    "def interact_with_ChatGPT(api_key, messages):\n",
    "    client = OpenAI(api_key=api_key)\n",
    "    content = input(\"User: \")\n",
    "    print(f\"Me: {content}\")\n",
    "    \n",
    "    messages.append({\"role\": \"user\", \"content\": content})\n",
    "\n",
    "    chat_completion = client.chat.completions.create(\n",
    "    messages = messages,\n",
    "    model = \"gpt-3.5-turbo\", # This is the type of model we will use from the models ChatGPT provides\n",
    ")\n",
    "\n",
    "    chat_response = chat_completion.choices[0].message.content\n",
    "\n",
    "    print(f\"ChatGPT: {chat_response}\")\n",
    "    \n",
    "\n",
    "    "
   ]
  },
  {
   "cell_type": "markdown",
   "metadata": {},
   "source": [
    "### Exercise 5.6\n",
    "\n",
    "Call your function defined above!\n",
    "\n",
    "เรียกใช้ฟังก์ชันที่คุณสร้างไว้ด้านบน!"
   ]
  },
  {
   "cell_type": "code",
   "execution_count": 13,
   "metadata": {},
   "outputs": [],
   "source": [
    "# Input your answer here\n"
   ]
  },
  {
   "cell_type": "markdown",
   "metadata": {},
   "source": [
    "This is starting to look better. However, it doesn't look much like a conversation yet. What's missing?\n",
    "\n",
    "\n",
    "ดูดีขึ้นแล้วนะครับ! อย่างไรก็ตาม ตอนนี้ยังดูไม่ค่อยเหมือนบทสนทนาเท่าไหร่  อะไรที่ยังขาดอยู่เหรอ?"
   ]
  },
  {
   "cell_type": "markdown",
   "metadata": {},
   "source": [
    "### while loop\n",
    "\n",
    "We've learnt about `for` loops in Python, but there is another loop - the `while` loop. The `while` loop executes the code inside of it as long as a condition is `True`. Let's see how it works below.\n",
    "\n",
    "\n",
    "เราเรียนรู้เกี่ยวกับลูป `for` ใน Python กันไปแล้ว แต่มันยังมีลูปอีกแบบนึง นั่นคือ ลูป `while` ซึ่งลูป `while` จะทำงานวนซ้ำไปเรื่อยๆ ตราบเท่าที่เงื่อนไขยังเป็น `True` เราลองมาดูวิธีการใช้งานด้านล่างนี้กันเลย!"
   ]
  },
  {
   "cell_type": "code",
   "execution_count": 14,
   "metadata": {},
   "outputs": [],
   "source": [
    "counter = 0\n",
    "\n",
    "while counter <= 10:\n",
    "    print(f\"Your counter is at: {counter}\")\n",
    "    counter += 1\n",
    "\n",
    "print(f\"We reached 10, loop is over\")"
   ]
  },
  {
   "cell_type": "markdown",
   "metadata": {},
   "source": [
    "### Exercise 5.7\n",
    "\n",
    "Initialize `total_sum = 0`, `a = 3`, `b = 5`. Write a loop that iterates until the `total_sum` of your elements `a` and `b` is greater than or equal to 16. Print your sum at each iteration. While the sum is less than 16, keep increasing both `a` and `b` by 1. Print \"loop finished\" when you reach 16.\n",
    "\n",
    "Hint: use the `<` operator\n",
    "\n",
    "\n",
    "\n",
    "สร้างลูปเพื่อคำนวณผลรวมของตัวเลข 2 ตัว จนกว่าผลรวมจะมากกว่าหรือเท่ากับ 16\n",
    "\n",
    "เตรียมตัว:\n",
    "\n",
    "ตั้งค่าตัวแปร `total_sum` เป็น 0\n",
    "ตั้งค่าตัวแปร `a = 3`\n",
    "ตั้งค่าตัวแปร `b = 5`\n",
    "ลูป:\n",
    "\n",
    "ตรวจสอบว่า `total_sum` น้อยกว่า 16 ไหม ถ้าใช่ ทำตามข้อ 2-4 ต่อ\n",
    "พิมพ์ค่าของ `total_sum` ในรอบลูปนั้น\n",
    "เพิ่มค่า 1 ให้กับทั้ง `a` และ `b`\n",
    "คำนวณ `total_sum` ใหม่ โดยบวกค่าใหม่ของ `a` และ `b` เข้าด้วยกัน\n",
    "กลับไปข้อ 1 เพื่อตรวจสอบเงื่อนไขอีกครั้ง\n",
    "สิ้นสุดลูป:\n",
    "\n",
    "เมื่อ `total_sum` มากกว่าหรือเท่ากับ 16 ให้พิมพ์ข้อความ \"loop finished\"\n",
    "เคล็ดลับ:\n",
    "\n",
    "ใช้เครื่องหมาย `<` เพื่อเปรียบเทียบค่า\n",
    "หมายเหตุ:\n",
    "\n",
    "โจทย์นี้ไม่ได้ต้องการให้คุณเขียนโค้ดจริง แค่ให้คุณเข้าใจตรรกะของการเขียนลูปนี้เป็นภาษาไทย"
   ]
  },
  {
   "cell_type": "code",
   "execution_count": 15,
   "metadata": {},
   "outputs": [],
   "source": [
    "#Input your answer here\n",
    "\n"
   ]
  },
  {
   "cell_type": "markdown",
   "metadata": {},
   "source": [
    "The while loop can also be used when we want the loop to continue on. In this case, we can use it like below. Let's see how this works!\n",
    "\n",
    "ลูป while ยังสามารถใช้ได้เมื่อเราต้องการให้ลูปทำงานต่อไป ในกรณีนี้ เราสามารถใช้ได้ดังนี้ ลองดูวิธีการทำงานกันเลย!"
   ]
  },
  {
   "cell_type": "code",
   "execution_count": 1,
   "metadata": {},
   "outputs": [],
   "source": [
    "def interact_with_ChatGPT(api_key, messages):\n",
    "    client = OpenAI(api_key=api_key)\n",
    "\n",
    "    while True:\n",
    "        content = input(\"User: \")\n",
    "        print(\"Me:\", content)\n",
    "    \n",
    "        messages.append({\"role\": \"user\", \"content\": content})\n",
    "\n",
    "        chat_completion = client.chat.completions.create(\n",
    "        messages = messages,\n",
    "        model = \"gpt-3.5-turbo\", # This is the type of model we will use from the models ChatGPT provides\n",
    "    )\n",
    "\n",
    "        chat_response = chat_completion.choices[0].message.content\n",
    "\n",
    "        print(f\"ChatGPT: {chat_response}\")"
   ]
  },
  {
   "cell_type": "code",
   "execution_count": 16,
   "metadata": {},
   "outputs": [],
   "source": [
    "interact_with_ChatGPT(my_api_key, messages)"
   ]
  },
  {
   "cell_type": "markdown",
   "metadata": {},
   "source": [
    "Let's change the code from above to know when to finish the interaction.\n",
    "\n",
    "เราลองปรับเปลี่ยนโค้ดด้านบนเพื่อให้มันรู้ว่าควรจะจบการโต้ตอบเมื่อไหร่กันดีนะ!"
   ]
  },
  {
   "cell_type": "code",
   "execution_count": 11,
   "metadata": {},
   "outputs": [],
   "source": [
    "def interact_with_ChatGPT(api_key, messages):\n",
    "    client = OpenAI(api_key=api_key)\n",
    "\n",
    "    while True:\n",
    "        content = input(\"User: \")\n",
    "\n",
    "        if content == \"quit\":\n",
    "            break\n",
    "        else:\n",
    "            print(\"Me:\", content)\n",
    "    \n",
    "            messages.append({\"role\": \"user\", \"content\": content})\n",
    "\n",
    "            chat_completion = client.chat.completions.create(\n",
    "            messages = messages,\n",
    "            model = \"gpt-3.5-turbo\", # This is the type of model we will use from the models ChatGPT provides\n",
    "            )\n",
    "\n",
    "            chat_response = chat_completion.choices[0].message.content\n",
    "\n",
    "            print(f\"ChatGPT: {chat_response}\")"
   ]
  },
  {
   "cell_type": "code",
   "execution_count": 17,
   "metadata": {},
   "outputs": [],
   "source": [
    "interact_with_ChatGPT(my_api_key, messages)"
   ]
  },
  {
   "cell_type": "markdown",
   "metadata": {},
   "source": [
    "### Exercise 5.8\n",
    "\n",
    "Carry a conversation with the ChatGPT and see if you notice anything strange about the behaviour. What do you notice in the system's answer?\n",
    "\n",
    "\n",
    "ลองพูดคุยกับ ChatGPT ดู แล้วสังเกตว่ามีอะไรแปลกๆ ในพฤติกรรมของมันหรือเปล่า? คุณสังเกตเห็นอะไรในคำตอบของระบบบ้าง?"
   ]
  },
  {
   "cell_type": "markdown",
   "metadata": {},
   "source": [
    "##### Write your answer here"
   ]
  },
  {
   "cell_type": "markdown",
   "metadata": {},
   "source": [
    "### ChatGPT roles\n",
    "\n",
    "\n",
    "__user role__ - user role is used for the person who is chatting with ChatGPT model\\\n",
    "__system role__ - system role sets the behaviour of the chatbot throughout the conversation\\\n",
    "__assistant role__ - the assistant role is taken by the chatbot itself. The assistant can remember the conversation in order to be halepful throughout it.\n",
    "\n",
    "\n",
    "\n",
    "__user role__ - บทบาทผู้ใช้ ถูกใช้แทนบุคคลที่กำลังพูดคุยกับโมเดล ChatGPT\\\n",
    "__system role__ - บทบาทระบบ กำหนดพฤติกรรมของแชทบอทตลอดการสนทนา\\\n",
    "__assistant role__ - บทบาทผู้ช่วย โดยแชทบอทเองทำหน้าที่นี้ ผู้ช่วยสามารถจดจำการสนทนาเพื่อช่วยเหลือคุณได้ตลอดการสนทนา"
   ]
  },
  {
   "cell_type": "markdown",
   "metadata": {},
   "source": [
    "### Exercise 5.9\n",
    "\n",
    "We want to change the behaviour of the system now to allow it to remember the coversation from before.\\\n",
    "Add an \"assistant\" role with the appropriate \"content\" - what should it be?\\\n",
    "__Hint:__ you need the assistant to remember what it said to you last.\\\n",
    "Repeat the exercise above. What do you notice this time?\n",
    "\n",
    "ปลี่ยนพฤติกรรมของระบบ\n",
    "เราต้องการเปลี่ยนพฤติกรรมของระบบเพื่อให้มันจำการสนทนาจากก่อนหน้านี้ได้\\\n",
    "เพิ่มบทบาท \"ผู้ช่วย\" ด้วย \"เนื้อหา\" ที่เหมาะสม - ควรเป็นอะไร?\\\n",
    "คำใบ้: คุณต้องการให้ผู้ช่วยจำคำพูดล่าสุดที่พูดกับคุณ\\\n",
    "ทำแบบฝึกหัดซ้ำอีกรอบ คุณสังเกตเห็นอะไรในครั้งนี้?"
   ]
  },
  {
   "cell_type": "code",
   "execution_count": null,
   "metadata": {},
   "outputs": [],
   "source": [
    "# Input your answer here:"
   ]
  },
  {
   "cell_type": "code",
   "execution_count": 18,
   "metadata": {},
   "outputs": [],
   "source": [
    "interact_with_ChatGPT(my_api_key, messages)"
   ]
  },
  {
   "cell_type": "markdown",
   "metadata": {},
   "source": [
    "### Going forwards\n",
    "\n",
    "Read more about how to use ChatGPT for your own applications:\\\n",
    "ChatGPT documentation: https://platform.openai.com/docs/guides/text-generation\\\n",
    "ChatGPT Python code repository: https://github.com/openai/openai-python/tree/main\\\n",
    "\n",
    "Using a large language model (LLM) like ChatGPT although fun, requires a lot of knowledge! Don't worry if things seem confusing now, the best thing you can do now is keep on learning Python! Start with W3 school (https://www.w3schools.com/python/https://www.w3schools.com/python/) and find other content.\n",
    "\n",
    "\n",
    "\n",
    "อ่านเพิ่มเติมเกี่ยวกับวิธีใช้ ChatGPT สำหรับแอปพลิเคชันของคุณเอง:\\\n",
    "\n",
    "เอกสารประกอบ ChatGPT: https://platform.openai.com/docs/guides/text-generation\\\n",
    "คลังเก็บโค้ด Python ของ ChatGPT: https://github.com/openai/openai-python/tree/main\\\n",
    "การใช้ Large Language Model (LLM) อย่าง ChatGPT ถึงแม้จะสนุก แต่ก็ต้องการความรู้มากมาย! ไม่ต้องกังวลหากคุณรู้สึกสับสนในตอนนี้ สิ่งที่ดีที่สุดที่คุณทำได้ตอนนี้คือเรียนรู้ Python ต่อไป! เริ่มต้นด้วย W3 Schools (https://www.w3schools.com/python/) และหาเนื้อหาด้านอื่นๆ เพิ่มเติม"
   ]
  },
  {
   "cell_type": "markdown",
   "metadata": {},
   "source": [
    "#### Acknowledgments\n",
    "\n",
    "This lesson was created largely following this online tutorial: https://www.youtube.com/watch?v=XxIfSkkyAaQ (However, the `openai` code has been changed in between the creation of the video and this lesson. The changes are reflected in the lesson)\n",
    "\n",
    "\n",
    "บทเรียนนี้สร้างขึ้นโดยอิงตามวิดีโอสอนออนไลน์นี้เป็นหลัก: https://www.youtube.com/watch?v=XxIfSkkyAaQ (อย่างไรก็ตาม โค้ด openai มีการเปลี่ยนแปลงไประหว่างการสร้างวิดีโอและบทเรียนนี้ บทเรียนนี้ได้ปรับเปลี่ยนโค้ดตามการเปลี่ยนแปลงดังกล่าวแล้ว)\n"
   ]
  }
 ],
 "metadata": {
  "kernelspec": {
   "display_name": "asr_env",
   "language": "python",
   "name": "python3"
  },
  "language_info": {
   "codemirror_mode": {
    "name": "ipython",
    "version": 3
   },
   "file_extension": ".py",
   "mimetype": "text/x-python",
   "name": "python",
   "nbconvert_exporter": "python",
   "pygments_lexer": "ipython3",
   "version": "3.7.10"
  }
 },
 "nbformat": 4,
 "nbformat_minor": 2
}
